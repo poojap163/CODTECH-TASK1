{
 "cells": [
  {
   "cell_type": "code",
   "execution_count": 1,
   "id": "35c50178",
   "metadata": {},
   "outputs": [],
   "source": [
    "import numpy as np\n",
    "import pandas as pd\n",
    "import os\n",
    "import matplotlib.pyplot as plt\n",
    "%matplotlib inline\n",
    "import seaborn as sns\n",
    "from scipy import stats"
   ]
  },
  {
   "cell_type": "code",
   "execution_count": 2,
   "id": "4d8b0877",
   "metadata": {},
   "outputs": [],
   "source": [
    "os.chdir('E:\\\\Python Foundation End to End Case Study E-Commerce Analytics Project\\\\5. Python Foundation End to End Case Study_E-Commerce Analytics Project')"
   ]
  },
  {
   "cell_type": "code",
   "execution_count": 3,
   "id": "053d578b",
   "metadata": {},
   "outputs": [],
   "source": [
    "customer=pd.read_csv('CUSTOMERS.csv')\n",
    "g_loc=pd.read_csv('GEO_LOCATION.csv')\n",
    "order_item=pd.read_csv('ORDER_ITEMS.csv')\n",
    "order_payment=pd.read_csv('ORDER_PAYMENTS.csv')\n",
    "order_ratings=pd.read_csv('ORDER_REVIEW_RATINGS.csv')\n",
    "orders=pd.read_csv('ORDERS.csv')\n",
    "products=pd.read_csv('PRODUCTS.csv')\n",
    "sellers=pd.read_csv('SELLERS.csv')\n"
   ]
  },
  {
   "cell_type": "markdown",
   "id": "10a62a8a",
   "metadata": {},
   "source": [
    "###  EDA"
   ]
  },
  {
   "cell_type": "code",
   "execution_count": 4,
   "id": "19b1e7e4",
   "metadata": {},
   "outputs": [
    {
     "data": {
      "text/html": [
       "<div>\n",
       "<style scoped>\n",
       "    .dataframe tbody tr th:only-of-type {\n",
       "        vertical-align: middle;\n",
       "    }\n",
       "\n",
       "    .dataframe tbody tr th {\n",
       "        vertical-align: top;\n",
       "    }\n",
       "\n",
       "    .dataframe thead th {\n",
       "        text-align: right;\n",
       "    }\n",
       "</style>\n",
       "<table border=\"1\" class=\"dataframe\">\n",
       "  <thead>\n",
       "    <tr style=\"text-align: right;\">\n",
       "      <th></th>\n",
       "      <th>customer_id</th>\n",
       "      <th>customer_unique_id</th>\n",
       "      <th>customer_zip_code_prefix</th>\n",
       "      <th>customer_city</th>\n",
       "      <th>customer_state</th>\n",
       "    </tr>\n",
       "  </thead>\n",
       "  <tbody>\n",
       "    <tr>\n",
       "      <th>0</th>\n",
       "      <td>06b8999e2fba1a1fbc88172c00ba8bc7</td>\n",
       "      <td>861eff4711a542e4b93843c6dd7febb0</td>\n",
       "      <td>14409</td>\n",
       "      <td>Adilabad</td>\n",
       "      <td>Andhra Pradesh</td>\n",
       "    </tr>\n",
       "    <tr>\n",
       "      <th>1</th>\n",
       "      <td>18955e83d337fd6b2def6b18a428ac77</td>\n",
       "      <td>290c77bc529b7ac935b93aa66c333dc3</td>\n",
       "      <td>9790</td>\n",
       "      <td>Adoni</td>\n",
       "      <td>Andhra Pradesh</td>\n",
       "    </tr>\n",
       "  </tbody>\n",
       "</table>\n",
       "</div>"
      ],
      "text/plain": [
       "                        customer_id                customer_unique_id  \\\n",
       "0  06b8999e2fba1a1fbc88172c00ba8bc7  861eff4711a542e4b93843c6dd7febb0   \n",
       "1  18955e83d337fd6b2def6b18a428ac77  290c77bc529b7ac935b93aa66c333dc3   \n",
       "\n",
       "   customer_zip_code_prefix customer_city  customer_state  \n",
       "0                     14409      Adilabad  Andhra Pradesh  \n",
       "1                      9790         Adoni  Andhra Pradesh  "
      ]
     },
     "execution_count": 4,
     "metadata": {},
     "output_type": "execute_result"
    }
   ],
   "source": [
    "customer.head(2)"
   ]
  },
  {
   "cell_type": "code",
   "execution_count": 5,
   "id": "65e574f5",
   "metadata": {},
   "outputs": [
    {
     "name": "stdout",
     "output_type": "stream",
     "text": [
      "<class 'pandas.core.frame.DataFrame'>\n",
      "RangeIndex: 99441 entries, 0 to 99440\n",
      "Data columns (total 5 columns):\n",
      " #   Column                    Non-Null Count  Dtype \n",
      "---  ------                    --------------  ----- \n",
      " 0   customer_id               99441 non-null  object\n",
      " 1   customer_unique_id        99441 non-null  object\n",
      " 2   customer_zip_code_prefix  99441 non-null  int64 \n",
      " 3   customer_city             99441 non-null  object\n",
      " 4   customer_state            99441 non-null  object\n",
      "dtypes: int64(1), object(4)\n",
      "memory usage: 3.8+ MB\n"
     ]
    }
   ],
   "source": [
    "customer.info()"
   ]
  },
  {
   "cell_type": "code",
   "execution_count": 6,
   "id": "03e5ff3a",
   "metadata": {},
   "outputs": [
    {
     "data": {
      "text/plain": [
       "(99441, 5)"
      ]
     },
     "execution_count": 6,
     "metadata": {},
     "output_type": "execute_result"
    }
   ],
   "source": [
    "customer.shape"
   ]
  },
  {
   "cell_type": "code",
   "execution_count": 7,
   "id": "733cbaca",
   "metadata": {},
   "outputs": [
    {
     "data": {
      "text/plain": [
       "497205"
      ]
     },
     "execution_count": 7,
     "metadata": {},
     "output_type": "execute_result"
    }
   ],
   "source": [
    "customer.size"
   ]
  },
  {
   "cell_type": "code",
   "execution_count": 8,
   "id": "64c555e0",
   "metadata": {},
   "outputs": [
    {
     "data": {
      "text/plain": [
       "customer_id                 0\n",
       "customer_unique_id          0\n",
       "customer_zip_code_prefix    0\n",
       "customer_city               0\n",
       "customer_state              0\n",
       "dtype: int64"
      ]
     },
     "execution_count": 8,
     "metadata": {},
     "output_type": "execute_result"
    }
   ],
   "source": [
    "customer.isnull().sum()"
   ]
  },
  {
   "cell_type": "code",
   "execution_count": 9,
   "id": "ed2299c8",
   "metadata": {},
   "outputs": [
    {
     "data": {
      "text/plain": [
       "0"
      ]
     },
     "execution_count": 9,
     "metadata": {},
     "output_type": "execute_result"
    }
   ],
   "source": [
    "customer.duplicated().sum()"
   ]
  },
  {
   "cell_type": "code",
   "execution_count": 10,
   "id": "9ad4febc",
   "metadata": {},
   "outputs": [
    {
     "data": {
      "text/plain": [
       "customer_id                 99441\n",
       "customer_unique_id          96096\n",
       "customer_zip_code_prefix    14994\n",
       "customer_city                4119\n",
       "customer_state                 20\n",
       "dtype: int64"
      ]
     },
     "execution_count": 10,
     "metadata": {},
     "output_type": "execute_result"
    }
   ],
   "source": [
    "customer.nunique()"
   ]
  },
  {
   "cell_type": "code",
   "execution_count": 11,
   "id": "8837bdb3",
   "metadata": {},
   "outputs": [
    {
     "data": {
      "text/html": [
       "<div>\n",
       "<style scoped>\n",
       "    .dataframe tbody tr th:only-of-type {\n",
       "        vertical-align: middle;\n",
       "    }\n",
       "\n",
       "    .dataframe tbody tr th {\n",
       "        vertical-align: top;\n",
       "    }\n",
       "\n",
       "    .dataframe thead th {\n",
       "        text-align: right;\n",
       "    }\n",
       "</style>\n",
       "<table border=\"1\" class=\"dataframe\">\n",
       "  <thead>\n",
       "    <tr style=\"text-align: right;\">\n",
       "      <th></th>\n",
       "      <th>geolocation_zip_code_prefix</th>\n",
       "      <th>geolocation_lat</th>\n",
       "      <th>geolocation_lng</th>\n",
       "      <th>geolocation_city</th>\n",
       "      <th>geolocation_state</th>\n",
       "    </tr>\n",
       "  </thead>\n",
       "  <tbody>\n",
       "    <tr>\n",
       "      <th>0</th>\n",
       "      <td>1037</td>\n",
       "      <td>-23.545621</td>\n",
       "      <td>-46.639292</td>\n",
       "      <td>Akkarampalle</td>\n",
       "      <td>Andhra Pradesh</td>\n",
       "    </tr>\n",
       "    <tr>\n",
       "      <th>1</th>\n",
       "      <td>1046</td>\n",
       "      <td>-23.546081</td>\n",
       "      <td>-46.644820</td>\n",
       "      <td>Akkarampalle</td>\n",
       "      <td>Andhra Pradesh</td>\n",
       "    </tr>\n",
       "  </tbody>\n",
       "</table>\n",
       "</div>"
      ],
      "text/plain": [
       "   geolocation_zip_code_prefix  geolocation_lat  geolocation_lng  \\\n",
       "0                         1037       -23.545621       -46.639292   \n",
       "1                         1046       -23.546081       -46.644820   \n",
       "\n",
       "  geolocation_city geolocation_state  \n",
       "0     Akkarampalle    Andhra Pradesh  \n",
       "1     Akkarampalle    Andhra Pradesh  "
      ]
     },
     "execution_count": 11,
     "metadata": {},
     "output_type": "execute_result"
    }
   ],
   "source": [
    "g_loc.head(2)"
   ]
  },
  {
   "cell_type": "code",
   "execution_count": 12,
   "id": "ef59fb5f",
   "metadata": {},
   "outputs": [
    {
     "name": "stdout",
     "output_type": "stream",
     "text": [
      "<class 'pandas.core.frame.DataFrame'>\n",
      "RangeIndex: 19015 entries, 0 to 19014\n",
      "Data columns (total 5 columns):\n",
      " #   Column                       Non-Null Count  Dtype  \n",
      "---  ------                       --------------  -----  \n",
      " 0   geolocation_zip_code_prefix  19015 non-null  int64  \n",
      " 1   geolocation_lat              19015 non-null  float64\n",
      " 2   geolocation_lng              19015 non-null  float64\n",
      " 3   geolocation_city             19015 non-null  object \n",
      " 4   geolocation_state            19015 non-null  object \n",
      "dtypes: float64(2), int64(1), object(2)\n",
      "memory usage: 742.9+ KB\n"
     ]
    }
   ],
   "source": [
    "g_loc.info()"
   ]
  },
  {
   "cell_type": "code",
   "execution_count": 13,
   "id": "281f6514",
   "metadata": {},
   "outputs": [
    {
     "data": {
      "text/plain": [
       "(19015, 5)"
      ]
     },
     "execution_count": 13,
     "metadata": {},
     "output_type": "execute_result"
    }
   ],
   "source": [
    "g_loc.shape"
   ]
  },
  {
   "cell_type": "code",
   "execution_count": 14,
   "id": "07437b06",
   "metadata": {},
   "outputs": [
    {
     "data": {
      "text/plain": [
       "95075"
      ]
     },
     "execution_count": 14,
     "metadata": {},
     "output_type": "execute_result"
    }
   ],
   "source": [
    "g_loc.size"
   ]
  },
  {
   "cell_type": "code",
   "execution_count": 15,
   "id": "2b29c190",
   "metadata": {},
   "outputs": [
    {
     "data": {
      "text/plain": [
       "geolocation_zip_code_prefix    0\n",
       "geolocation_lat                0\n",
       "geolocation_lng                0\n",
       "geolocation_city               0\n",
       "geolocation_state              0\n",
       "dtype: int64"
      ]
     },
     "execution_count": 15,
     "metadata": {},
     "output_type": "execute_result"
    }
   ],
   "source": [
    "g_loc.isnull().sum()"
   ]
  },
  {
   "cell_type": "code",
   "execution_count": 16,
   "id": "be62a5d1",
   "metadata": {},
   "outputs": [
    {
     "data": {
      "text/plain": [
       "0"
      ]
     },
     "execution_count": 16,
     "metadata": {},
     "output_type": "execute_result"
    }
   ],
   "source": [
    "g_loc.duplicated().sum()"
   ]
  },
  {
   "cell_type": "code",
   "execution_count": 17,
   "id": "3dd0319f",
   "metadata": {},
   "outputs": [
    {
     "data": {
      "text/html": [
       "<div>\n",
       "<style scoped>\n",
       "    .dataframe tbody tr th:only-of-type {\n",
       "        vertical-align: middle;\n",
       "    }\n",
       "\n",
       "    .dataframe tbody tr th {\n",
       "        vertical-align: top;\n",
       "    }\n",
       "\n",
       "    .dataframe thead th {\n",
       "        text-align: right;\n",
       "    }\n",
       "</style>\n",
       "<table border=\"1\" class=\"dataframe\">\n",
       "  <thead>\n",
       "    <tr style=\"text-align: right;\">\n",
       "      <th></th>\n",
       "      <th>order_id</th>\n",
       "      <th>order_item_id</th>\n",
       "      <th>product_id</th>\n",
       "      <th>seller_id</th>\n",
       "      <th>shipping_limit_date</th>\n",
       "      <th>price</th>\n",
       "      <th>freight_value</th>\n",
       "    </tr>\n",
       "  </thead>\n",
       "  <tbody>\n",
       "    <tr>\n",
       "      <th>0</th>\n",
       "      <td>00010242fe8c5a6d1ba2dd792cb16214</td>\n",
       "      <td>1</td>\n",
       "      <td>4244733e06e7ecb4970a6e2683c13e61</td>\n",
       "      <td>48436dade18ac8b2bce089ec2a041202</td>\n",
       "      <td>9/19/2017 9:45</td>\n",
       "      <td>58.9</td>\n",
       "      <td>13.29</td>\n",
       "    </tr>\n",
       "    <tr>\n",
       "      <th>1</th>\n",
       "      <td>00018f77f2f0320c557190d7a144bdd3</td>\n",
       "      <td>1</td>\n",
       "      <td>e5f2d52b802189ee658865ca93d83a8f</td>\n",
       "      <td>dd7ddc04e1b6c2c614352b383efe2d36</td>\n",
       "      <td>5/3/2017 11:05</td>\n",
       "      <td>239.9</td>\n",
       "      <td>19.93</td>\n",
       "    </tr>\n",
       "  </tbody>\n",
       "</table>\n",
       "</div>"
      ],
      "text/plain": [
       "                           order_id  order_item_id  \\\n",
       "0  00010242fe8c5a6d1ba2dd792cb16214              1   \n",
       "1  00018f77f2f0320c557190d7a144bdd3              1   \n",
       "\n",
       "                         product_id                         seller_id  \\\n",
       "0  4244733e06e7ecb4970a6e2683c13e61  48436dade18ac8b2bce089ec2a041202   \n",
       "1  e5f2d52b802189ee658865ca93d83a8f  dd7ddc04e1b6c2c614352b383efe2d36   \n",
       "\n",
       "  shipping_limit_date  price  freight_value  \n",
       "0      9/19/2017 9:45   58.9          13.29  \n",
       "1      5/3/2017 11:05  239.9          19.93  "
      ]
     },
     "execution_count": 17,
     "metadata": {},
     "output_type": "execute_result"
    }
   ],
   "source": [
    "order_item.head(2)"
   ]
  },
  {
   "cell_type": "code",
   "execution_count": 18,
   "id": "eb250cee",
   "metadata": {},
   "outputs": [
    {
     "name": "stdout",
     "output_type": "stream",
     "text": [
      "<class 'pandas.core.frame.DataFrame'>\n",
      "RangeIndex: 112650 entries, 0 to 112649\n",
      "Data columns (total 7 columns):\n",
      " #   Column               Non-Null Count   Dtype  \n",
      "---  ------               --------------   -----  \n",
      " 0   order_id             112650 non-null  object \n",
      " 1   order_item_id        112650 non-null  int64  \n",
      " 2   product_id           112650 non-null  object \n",
      " 3   seller_id            112650 non-null  object \n",
      " 4   shipping_limit_date  112650 non-null  object \n",
      " 5   price                112650 non-null  float64\n",
      " 6   freight_value        112650 non-null  float64\n",
      "dtypes: float64(2), int64(1), object(4)\n",
      "memory usage: 6.0+ MB\n"
     ]
    }
   ],
   "source": [
    "order_item.info()"
   ]
  },
  {
   "cell_type": "code",
   "execution_count": 19,
   "id": "7537394b",
   "metadata": {},
   "outputs": [],
   "source": [
    "order_item.shipping_limit_date=pd.to_datetime(order_item.shipping_limit_date,format='%m/%d/%Y %H:%M')"
   ]
  },
  {
   "cell_type": "code",
   "execution_count": 20,
   "id": "6661b207",
   "metadata": {},
   "outputs": [
    {
     "data": {
      "text/plain": [
       "order_id                       object\n",
       "order_item_id                   int64\n",
       "product_id                     object\n",
       "seller_id                      object\n",
       "shipping_limit_date    datetime64[ns]\n",
       "price                         float64\n",
       "freight_value                 float64\n",
       "dtype: object"
      ]
     },
     "execution_count": 20,
     "metadata": {},
     "output_type": "execute_result"
    }
   ],
   "source": [
    "order_item.dtypes"
   ]
  },
  {
   "cell_type": "code",
   "execution_count": 21,
   "id": "f77ab446",
   "metadata": {},
   "outputs": [
    {
     "data": {
      "text/plain": [
       "order_id               0\n",
       "order_item_id          0\n",
       "product_id             0\n",
       "seller_id              0\n",
       "shipping_limit_date    0\n",
       "price                  0\n",
       "freight_value          0\n",
       "dtype: int64"
      ]
     },
     "execution_count": 21,
     "metadata": {},
     "output_type": "execute_result"
    }
   ],
   "source": [
    "order_item.isnull().sum()"
   ]
  },
  {
   "cell_type": "code",
   "execution_count": 22,
   "id": "5c712a42",
   "metadata": {},
   "outputs": [
    {
     "data": {
      "text/plain": [
       "0"
      ]
     },
     "execution_count": 22,
     "metadata": {},
     "output_type": "execute_result"
    }
   ],
   "source": [
    "order_item.duplicated().sum()"
   ]
  },
  {
   "cell_type": "code",
   "execution_count": 23,
   "id": "85d758c9",
   "metadata": {},
   "outputs": [
    {
     "data": {
      "text/html": [
       "<div>\n",
       "<style scoped>\n",
       "    .dataframe tbody tr th:only-of-type {\n",
       "        vertical-align: middle;\n",
       "    }\n",
       "\n",
       "    .dataframe tbody tr th {\n",
       "        vertical-align: top;\n",
       "    }\n",
       "\n",
       "    .dataframe thead th {\n",
       "        text-align: right;\n",
       "    }\n",
       "</style>\n",
       "<table border=\"1\" class=\"dataframe\">\n",
       "  <thead>\n",
       "    <tr style=\"text-align: right;\">\n",
       "      <th></th>\n",
       "      <th>order_id</th>\n",
       "      <th>payment_sequential</th>\n",
       "      <th>payment_type</th>\n",
       "      <th>payment_installments</th>\n",
       "      <th>payment_value</th>\n",
       "    </tr>\n",
       "  </thead>\n",
       "  <tbody>\n",
       "    <tr>\n",
       "      <th>0</th>\n",
       "      <td>b81ef226f3fe1789b1e8b2acac839d17</td>\n",
       "      <td>1</td>\n",
       "      <td>credit_card</td>\n",
       "      <td>8</td>\n",
       "      <td>99.33</td>\n",
       "    </tr>\n",
       "    <tr>\n",
       "      <th>1</th>\n",
       "      <td>a9810da82917af2d9aefd1278f1dcfa0</td>\n",
       "      <td>1</td>\n",
       "      <td>credit_card</td>\n",
       "      <td>1</td>\n",
       "      <td>24.39</td>\n",
       "    </tr>\n",
       "  </tbody>\n",
       "</table>\n",
       "</div>"
      ],
      "text/plain": [
       "                           order_id  payment_sequential payment_type  \\\n",
       "0  b81ef226f3fe1789b1e8b2acac839d17                   1  credit_card   \n",
       "1  a9810da82917af2d9aefd1278f1dcfa0                   1  credit_card   \n",
       "\n",
       "   payment_installments  payment_value  \n",
       "0                     8          99.33  \n",
       "1                     1          24.39  "
      ]
     },
     "execution_count": 23,
     "metadata": {},
     "output_type": "execute_result"
    }
   ],
   "source": [
    "order_payment.head(2)"
   ]
  },
  {
   "cell_type": "code",
   "execution_count": 24,
   "id": "c7be01e5",
   "metadata": {},
   "outputs": [
    {
     "name": "stdout",
     "output_type": "stream",
     "text": [
      "<class 'pandas.core.frame.DataFrame'>\n",
      "RangeIndex: 103886 entries, 0 to 103885\n",
      "Data columns (total 5 columns):\n",
      " #   Column                Non-Null Count   Dtype  \n",
      "---  ------                --------------   -----  \n",
      " 0   order_id              103886 non-null  object \n",
      " 1   payment_sequential    103886 non-null  int64  \n",
      " 2   payment_type          103886 non-null  object \n",
      " 3   payment_installments  103886 non-null  int64  \n",
      " 4   payment_value         103886 non-null  float64\n",
      "dtypes: float64(1), int64(2), object(2)\n",
      "memory usage: 4.0+ MB\n"
     ]
    }
   ],
   "source": [
    "order_payment.info()"
   ]
  },
  {
   "cell_type": "code",
   "execution_count": 25,
   "id": "85836743",
   "metadata": {},
   "outputs": [
    {
     "data": {
      "text/plain": [
       "order_id                0\n",
       "payment_sequential      0\n",
       "payment_type            0\n",
       "payment_installments    0\n",
       "payment_value           0\n",
       "dtype: int64"
      ]
     },
     "execution_count": 25,
     "metadata": {},
     "output_type": "execute_result"
    }
   ],
   "source": [
    "order_payment.isnull().sum()"
   ]
  },
  {
   "cell_type": "code",
   "execution_count": 26,
   "id": "8fc604b6",
   "metadata": {},
   "outputs": [
    {
     "data": {
      "text/plain": [
       "0"
      ]
     },
     "execution_count": 26,
     "metadata": {},
     "output_type": "execute_result"
    }
   ],
   "source": [
    "order_payment.duplicated().sum()"
   ]
  },
  {
   "cell_type": "code",
   "execution_count": 27,
   "id": "74ffb910",
   "metadata": {},
   "outputs": [
    {
     "data": {
      "text/html": [
       "<div>\n",
       "<style scoped>\n",
       "    .dataframe tbody tr th:only-of-type {\n",
       "        vertical-align: middle;\n",
       "    }\n",
       "\n",
       "    .dataframe tbody tr th {\n",
       "        vertical-align: top;\n",
       "    }\n",
       "\n",
       "    .dataframe thead th {\n",
       "        text-align: right;\n",
       "    }\n",
       "</style>\n",
       "<table border=\"1\" class=\"dataframe\">\n",
       "  <thead>\n",
       "    <tr style=\"text-align: right;\">\n",
       "      <th></th>\n",
       "      <th>review_id</th>\n",
       "      <th>order_id</th>\n",
       "      <th>review_score</th>\n",
       "      <th>review_creation_date</th>\n",
       "      <th>review_answer_timestamp</th>\n",
       "    </tr>\n",
       "  </thead>\n",
       "  <tbody>\n",
       "    <tr>\n",
       "      <th>0</th>\n",
       "      <td>7bc2406110b926393aa56f80a40eba40</td>\n",
       "      <td>73fc7af87114b39712e6da79b0a377eb</td>\n",
       "      <td>4</td>\n",
       "      <td>1/18/2018 0:00</td>\n",
       "      <td>1/18/2018 21:46</td>\n",
       "    </tr>\n",
       "    <tr>\n",
       "      <th>1</th>\n",
       "      <td>80e641a11e56f04c1ad469d5645fdfde</td>\n",
       "      <td>a548910a1c6147796b98fdf73dbeba33</td>\n",
       "      <td>5</td>\n",
       "      <td>3/10/2018 0:00</td>\n",
       "      <td>3/11/2018 3:05</td>\n",
       "    </tr>\n",
       "  </tbody>\n",
       "</table>\n",
       "</div>"
      ],
      "text/plain": [
       "                          review_id                          order_id  \\\n",
       "0  7bc2406110b926393aa56f80a40eba40  73fc7af87114b39712e6da79b0a377eb   \n",
       "1  80e641a11e56f04c1ad469d5645fdfde  a548910a1c6147796b98fdf73dbeba33   \n",
       "\n",
       "   review_score review_creation_date review_answer_timestamp  \n",
       "0             4       1/18/2018 0:00         1/18/2018 21:46  \n",
       "1             5       3/10/2018 0:00          3/11/2018 3:05  "
      ]
     },
     "execution_count": 27,
     "metadata": {},
     "output_type": "execute_result"
    }
   ],
   "source": [
    "order_ratings.head(2)"
   ]
  },
  {
   "cell_type": "code",
   "execution_count": 28,
   "id": "cd228aa1",
   "metadata": {},
   "outputs": [
    {
     "name": "stdout",
     "output_type": "stream",
     "text": [
      "<class 'pandas.core.frame.DataFrame'>\n",
      "RangeIndex: 100000 entries, 0 to 99999\n",
      "Data columns (total 5 columns):\n",
      " #   Column                   Non-Null Count   Dtype \n",
      "---  ------                   --------------   ----- \n",
      " 0   review_id                100000 non-null  object\n",
      " 1   order_id                 100000 non-null  object\n",
      " 2   review_score             100000 non-null  int64 \n",
      " 3   review_creation_date     100000 non-null  object\n",
      " 4   review_answer_timestamp  100000 non-null  object\n",
      "dtypes: int64(1), object(4)\n",
      "memory usage: 3.8+ MB\n"
     ]
    }
   ],
   "source": [
    "order_ratings.info()"
   ]
  },
  {
   "cell_type": "code",
   "execution_count": 29,
   "id": "2ae57c1b",
   "metadata": {},
   "outputs": [],
   "source": [
    "order_ratings.review_creation_date=pd.to_datetime(order_ratings.review_creation_date,format='%m/%d/%Y %H:%M')\n",
    "order_ratings.review_answer_timestamp=pd.to_datetime(order_ratings.review_answer_timestamp,format='%m/%d/%Y %H:%M')"
   ]
  },
  {
   "cell_type": "code",
   "execution_count": 30,
   "id": "30b0a1bd",
   "metadata": {},
   "outputs": [
    {
     "name": "stdout",
     "output_type": "stream",
     "text": [
      "<class 'pandas.core.frame.DataFrame'>\n",
      "RangeIndex: 100000 entries, 0 to 99999\n",
      "Data columns (total 5 columns):\n",
      " #   Column                   Non-Null Count   Dtype         \n",
      "---  ------                   --------------   -----         \n",
      " 0   review_id                100000 non-null  object        \n",
      " 1   order_id                 100000 non-null  object        \n",
      " 2   review_score             100000 non-null  int64         \n",
      " 3   review_creation_date     100000 non-null  datetime64[ns]\n",
      " 4   review_answer_timestamp  100000 non-null  datetime64[ns]\n",
      "dtypes: datetime64[ns](2), int64(1), object(2)\n",
      "memory usage: 3.8+ MB\n"
     ]
    }
   ],
   "source": [
    "order_ratings.info()"
   ]
  },
  {
   "cell_type": "code",
   "execution_count": 31,
   "id": "126ee447",
   "metadata": {},
   "outputs": [
    {
     "data": {
      "text/plain": [
       "review_id                  0\n",
       "order_id                   0\n",
       "review_score               0\n",
       "review_creation_date       0\n",
       "review_answer_timestamp    0\n",
       "dtype: int64"
      ]
     },
     "execution_count": 31,
     "metadata": {},
     "output_type": "execute_result"
    }
   ],
   "source": [
    "order_ratings.isnull().sum()"
   ]
  },
  {
   "cell_type": "code",
   "execution_count": 32,
   "id": "e431db65",
   "metadata": {},
   "outputs": [
    {
     "data": {
      "text/plain": [
       "0"
      ]
     },
     "execution_count": 32,
     "metadata": {},
     "output_type": "execute_result"
    }
   ],
   "source": [
    "order_ratings.duplicated().sum()"
   ]
  },
  {
   "cell_type": "code",
   "execution_count": 33,
   "id": "ecacba02",
   "metadata": {},
   "outputs": [
    {
     "data": {
      "text/html": [
       "<div>\n",
       "<style scoped>\n",
       "    .dataframe tbody tr th:only-of-type {\n",
       "        vertical-align: middle;\n",
       "    }\n",
       "\n",
       "    .dataframe tbody tr th {\n",
       "        vertical-align: top;\n",
       "    }\n",
       "\n",
       "    .dataframe thead th {\n",
       "        text-align: right;\n",
       "    }\n",
       "</style>\n",
       "<table border=\"1\" class=\"dataframe\">\n",
       "  <thead>\n",
       "    <tr style=\"text-align: right;\">\n",
       "      <th></th>\n",
       "      <th>order_id</th>\n",
       "      <th>customer_id</th>\n",
       "      <th>order_status</th>\n",
       "      <th>order_purchase_timestamp</th>\n",
       "      <th>order_approved_at</th>\n",
       "      <th>order_delivered_carrier_date</th>\n",
       "      <th>order_delivered_customer_date</th>\n",
       "      <th>order_estimated_delivery_date</th>\n",
       "    </tr>\n",
       "  </thead>\n",
       "  <tbody>\n",
       "    <tr>\n",
       "      <th>0</th>\n",
       "      <td>e481f51cbdc54678b7cc49136f2d6af7</td>\n",
       "      <td>9ef432eb6251297304e76186b10a928d</td>\n",
       "      <td>delivered</td>\n",
       "      <td>10/2/2017 10:56</td>\n",
       "      <td>10/2/2017 11:07</td>\n",
       "      <td>10/4/2017 19:55</td>\n",
       "      <td>10/10/2017 21:25</td>\n",
       "      <td>10/18/2017 0:00</td>\n",
       "    </tr>\n",
       "    <tr>\n",
       "      <th>1</th>\n",
       "      <td>53cdb2fc8bc7dce0b6741e2150273451</td>\n",
       "      <td>b0830fb4747a6c6d20dea0b8c802d7ef</td>\n",
       "      <td>delivered</td>\n",
       "      <td>7/24/2018 20:41</td>\n",
       "      <td>7/26/2018 3:24</td>\n",
       "      <td>7/26/2018 14:31</td>\n",
       "      <td>8/7/2018 15:27</td>\n",
       "      <td>8/13/2018 0:00</td>\n",
       "    </tr>\n",
       "  </tbody>\n",
       "</table>\n",
       "</div>"
      ],
      "text/plain": [
       "                           order_id                       customer_id  \\\n",
       "0  e481f51cbdc54678b7cc49136f2d6af7  9ef432eb6251297304e76186b10a928d   \n",
       "1  53cdb2fc8bc7dce0b6741e2150273451  b0830fb4747a6c6d20dea0b8c802d7ef   \n",
       "\n",
       "  order_status order_purchase_timestamp order_approved_at  \\\n",
       "0    delivered          10/2/2017 10:56   10/2/2017 11:07   \n",
       "1    delivered          7/24/2018 20:41    7/26/2018 3:24   \n",
       "\n",
       "  order_delivered_carrier_date order_delivered_customer_date  \\\n",
       "0              10/4/2017 19:55              10/10/2017 21:25   \n",
       "1              7/26/2018 14:31                8/7/2018 15:27   \n",
       "\n",
       "  order_estimated_delivery_date  \n",
       "0               10/18/2017 0:00  \n",
       "1                8/13/2018 0:00  "
      ]
     },
     "execution_count": 33,
     "metadata": {},
     "output_type": "execute_result"
    }
   ],
   "source": [
    "orders.head(2)"
   ]
  },
  {
   "cell_type": "code",
   "execution_count": 34,
   "id": "b912236d",
   "metadata": {},
   "outputs": [
    {
     "name": "stdout",
     "output_type": "stream",
     "text": [
      "<class 'pandas.core.frame.DataFrame'>\n",
      "RangeIndex: 99441 entries, 0 to 99440\n",
      "Data columns (total 8 columns):\n",
      " #   Column                         Non-Null Count  Dtype \n",
      "---  ------                         --------------  ----- \n",
      " 0   order_id                       99441 non-null  object\n",
      " 1   customer_id                    99441 non-null  object\n",
      " 2   order_status                   99441 non-null  object\n",
      " 3   order_purchase_timestamp       99441 non-null  object\n",
      " 4   order_approved_at              99281 non-null  object\n",
      " 5   order_delivered_carrier_date   97658 non-null  object\n",
      " 6   order_delivered_customer_date  96476 non-null  object\n",
      " 7   order_estimated_delivery_date  99441 non-null  object\n",
      "dtypes: object(8)\n",
      "memory usage: 6.1+ MB\n"
     ]
    }
   ],
   "source": [
    "orders.info()"
   ]
  },
  {
   "cell_type": "code",
   "execution_count": 35,
   "id": "e15e45fd",
   "metadata": {},
   "outputs": [],
   "source": [
    "orders.order_purchase_timestamp=pd.to_datetime(orders.order_purchase_timestamp,format='%m/%d/%Y %H:%M')"
   ]
  },
  {
   "cell_type": "code",
   "execution_count": 36,
   "id": "69a9a159",
   "metadata": {},
   "outputs": [],
   "source": [
    "orders.order_approved_at=pd.to_datetime(orders.order_approved_at,format='%m/%d/%Y %H:%M')"
   ]
  },
  {
   "cell_type": "code",
   "execution_count": 37,
   "id": "afc9f4c7",
   "metadata": {},
   "outputs": [],
   "source": [
    "orders.order_delivered_carrier_date=pd.to_datetime(orders.order_delivered_carrier_date,format='%m/%d/%Y %H:%M')"
   ]
  },
  {
   "cell_type": "code",
   "execution_count": 38,
   "id": "4fdc5f8a",
   "metadata": {},
   "outputs": [],
   "source": [
    "orders.order_delivered_customer_date=pd.to_datetime(orders.order_delivered_customer_date,format='%m/%d/%Y %H:%M')"
   ]
  },
  {
   "cell_type": "code",
   "execution_count": 39,
   "id": "017e0d61",
   "metadata": {},
   "outputs": [],
   "source": [
    "orders.order_estimated_delivery_date=pd.to_datetime(orders.order_estimated_delivery_date,format='%m/%d/%Y %H:%M')"
   ]
  },
  {
   "cell_type": "code",
   "execution_count": 40,
   "id": "7bd95ed2",
   "metadata": {},
   "outputs": [
    {
     "name": "stdout",
     "output_type": "stream",
     "text": [
      "<class 'pandas.core.frame.DataFrame'>\n",
      "RangeIndex: 99441 entries, 0 to 99440\n",
      "Data columns (total 8 columns):\n",
      " #   Column                         Non-Null Count  Dtype         \n",
      "---  ------                         --------------  -----         \n",
      " 0   order_id                       99441 non-null  object        \n",
      " 1   customer_id                    99441 non-null  object        \n",
      " 2   order_status                   99441 non-null  object        \n",
      " 3   order_purchase_timestamp       99441 non-null  datetime64[ns]\n",
      " 4   order_approved_at              99281 non-null  datetime64[ns]\n",
      " 5   order_delivered_carrier_date   97658 non-null  datetime64[ns]\n",
      " 6   order_delivered_customer_date  96476 non-null  datetime64[ns]\n",
      " 7   order_estimated_delivery_date  99441 non-null  datetime64[ns]\n",
      "dtypes: datetime64[ns](5), object(3)\n",
      "memory usage: 6.1+ MB\n"
     ]
    }
   ],
   "source": [
    "orders.info()"
   ]
  },
  {
   "cell_type": "code",
   "execution_count": 41,
   "id": "df5be113",
   "metadata": {},
   "outputs": [
    {
     "data": {
      "text/plain": [
       "order_id                         0.000000\n",
       "customer_id                      0.000000\n",
       "order_status                     0.000000\n",
       "order_purchase_timestamp         0.000000\n",
       "order_approved_at                0.160899\n",
       "order_delivered_carrier_date     1.793023\n",
       "order_delivered_customer_date    2.981668\n",
       "order_estimated_delivery_date    0.000000\n",
       "dtype: float64"
      ]
     },
     "execution_count": 41,
     "metadata": {},
     "output_type": "execute_result"
    }
   ],
   "source": [
    "(orders.isnull().sum()/len(orders))*100"
   ]
  },
  {
   "cell_type": "code",
   "execution_count": 42,
   "id": "a641328e",
   "metadata": {},
   "outputs": [
    {
     "data": {
      "text/plain": [
       "0"
      ]
     },
     "execution_count": 42,
     "metadata": {},
     "output_type": "execute_result"
    }
   ],
   "source": [
    "orders.duplicated().sum()"
   ]
  },
  {
   "cell_type": "code",
   "execution_count": 43,
   "id": "b2405b32",
   "metadata": {},
   "outputs": [
    {
     "data": {
      "text/html": [
       "<div>\n",
       "<style scoped>\n",
       "    .dataframe tbody tr th:only-of-type {\n",
       "        vertical-align: middle;\n",
       "    }\n",
       "\n",
       "    .dataframe tbody tr th {\n",
       "        vertical-align: top;\n",
       "    }\n",
       "\n",
       "    .dataframe thead th {\n",
       "        text-align: right;\n",
       "    }\n",
       "</style>\n",
       "<table border=\"1\" class=\"dataframe\">\n",
       "  <thead>\n",
       "    <tr style=\"text-align: right;\">\n",
       "      <th></th>\n",
       "      <th>product_id</th>\n",
       "      <th>product_category_name</th>\n",
       "      <th>product_name_lenght</th>\n",
       "      <th>product_description_lenght</th>\n",
       "      <th>product_photos_qty</th>\n",
       "      <th>product_weight_g</th>\n",
       "      <th>product_length_cm</th>\n",
       "      <th>product_height_cm</th>\n",
       "      <th>product_width_cm</th>\n",
       "    </tr>\n",
       "  </thead>\n",
       "  <tbody>\n",
       "    <tr>\n",
       "      <th>0</th>\n",
       "      <td>1e9e8ef04dbcff4541ed26657ea517e5</td>\n",
       "      <td>Perfumery</td>\n",
       "      <td>40.0</td>\n",
       "      <td>287.0</td>\n",
       "      <td>1.0</td>\n",
       "      <td>225.0</td>\n",
       "      <td>16.0</td>\n",
       "      <td>10.0</td>\n",
       "      <td>14.0</td>\n",
       "    </tr>\n",
       "    <tr>\n",
       "      <th>1</th>\n",
       "      <td>3aa071139cb16b67ca9e5dea641aaa2f</td>\n",
       "      <td>Art</td>\n",
       "      <td>44.0</td>\n",
       "      <td>276.0</td>\n",
       "      <td>1.0</td>\n",
       "      <td>1000.0</td>\n",
       "      <td>30.0</td>\n",
       "      <td>18.0</td>\n",
       "      <td>20.0</td>\n",
       "    </tr>\n",
       "  </tbody>\n",
       "</table>\n",
       "</div>"
      ],
      "text/plain": [
       "                         product_id product_category_name  \\\n",
       "0  1e9e8ef04dbcff4541ed26657ea517e5             Perfumery   \n",
       "1  3aa071139cb16b67ca9e5dea641aaa2f                   Art   \n",
       "\n",
       "   product_name_lenght  product_description_lenght  product_photos_qty  \\\n",
       "0                 40.0                       287.0                 1.0   \n",
       "1                 44.0                       276.0                 1.0   \n",
       "\n",
       "   product_weight_g  product_length_cm  product_height_cm  product_width_cm  \n",
       "0             225.0               16.0               10.0              14.0  \n",
       "1            1000.0               30.0               18.0              20.0  "
      ]
     },
     "execution_count": 43,
     "metadata": {},
     "output_type": "execute_result"
    }
   ],
   "source": [
    "products.head(2)"
   ]
  },
  {
   "cell_type": "code",
   "execution_count": 44,
   "id": "216bc338",
   "metadata": {},
   "outputs": [
    {
     "name": "stdout",
     "output_type": "stream",
     "text": [
      "<class 'pandas.core.frame.DataFrame'>\n",
      "RangeIndex: 32951 entries, 0 to 32950\n",
      "Data columns (total 9 columns):\n",
      " #   Column                      Non-Null Count  Dtype  \n",
      "---  ------                      --------------  -----  \n",
      " 0   product_id                  32951 non-null  object \n",
      " 1   product_category_name       32328 non-null  object \n",
      " 2   product_name_lenght         32341 non-null  float64\n",
      " 3   product_description_lenght  32341 non-null  float64\n",
      " 4   product_photos_qty          32341 non-null  float64\n",
      " 5   product_weight_g            32949 non-null  float64\n",
      " 6   product_length_cm           32949 non-null  float64\n",
      " 7   product_height_cm           32949 non-null  float64\n",
      " 8   product_width_cm            32949 non-null  float64\n",
      "dtypes: float64(7), object(2)\n",
      "memory usage: 2.3+ MB\n"
     ]
    }
   ],
   "source": [
    "products.info()"
   ]
  },
  {
   "cell_type": "code",
   "execution_count": 45,
   "id": "746933e6",
   "metadata": {},
   "outputs": [
    {
     "data": {
      "text/plain": [
       "product_id                    0.000000\n",
       "product_category_name         1.890686\n",
       "product_name_lenght           1.851234\n",
       "product_description_lenght    1.851234\n",
       "product_photos_qty            1.851234\n",
       "product_weight_g              0.006070\n",
       "product_length_cm             0.006070\n",
       "product_height_cm             0.006070\n",
       "product_width_cm              0.006070\n",
       "dtype: float64"
      ]
     },
     "execution_count": 45,
     "metadata": {},
     "output_type": "execute_result"
    }
   ],
   "source": [
    "(products.isnull().sum()/len(products))*100"
   ]
  },
  {
   "cell_type": "code",
   "execution_count": 46,
   "id": "90c0264d",
   "metadata": {},
   "outputs": [
    {
     "data": {
      "text/plain": [
       "0"
      ]
     },
     "execution_count": 46,
     "metadata": {},
     "output_type": "execute_result"
    }
   ],
   "source": [
    "products.duplicated().sum()"
   ]
  },
  {
   "cell_type": "code",
   "execution_count": 47,
   "id": "9a0b5698",
   "metadata": {},
   "outputs": [
    {
     "data": {
      "text/html": [
       "<div>\n",
       "<style scoped>\n",
       "    .dataframe tbody tr th:only-of-type {\n",
       "        vertical-align: middle;\n",
       "    }\n",
       "\n",
       "    .dataframe tbody tr th {\n",
       "        vertical-align: top;\n",
       "    }\n",
       "\n",
       "    .dataframe thead th {\n",
       "        text-align: right;\n",
       "    }\n",
       "</style>\n",
       "<table border=\"1\" class=\"dataframe\">\n",
       "  <thead>\n",
       "    <tr style=\"text-align: right;\">\n",
       "      <th></th>\n",
       "      <th>seller_id</th>\n",
       "      <th>seller_zip_code_prefix</th>\n",
       "      <th>seller_city</th>\n",
       "      <th>seller_state</th>\n",
       "    </tr>\n",
       "  </thead>\n",
       "  <tbody>\n",
       "    <tr>\n",
       "      <th>0</th>\n",
       "      <td>3442f8959a84dea7ee197c632cb2df15</td>\n",
       "      <td>13023</td>\n",
       "      <td>Alwal</td>\n",
       "      <td>Andhra Pradesh</td>\n",
       "    </tr>\n",
       "    <tr>\n",
       "      <th>1</th>\n",
       "      <td>d1b65fc7debc3361ea86b5f14c68d2e2</td>\n",
       "      <td>13023</td>\n",
       "      <td>Alwal</td>\n",
       "      <td>Andhra Pradesh</td>\n",
       "    </tr>\n",
       "  </tbody>\n",
       "</table>\n",
       "</div>"
      ],
      "text/plain": [
       "                          seller_id  seller_zip_code_prefix seller_city  \\\n",
       "0  3442f8959a84dea7ee197c632cb2df15                   13023       Alwal   \n",
       "1  d1b65fc7debc3361ea86b5f14c68d2e2                   13023       Alwal   \n",
       "\n",
       "     seller_state  \n",
       "0  Andhra Pradesh  \n",
       "1  Andhra Pradesh  "
      ]
     },
     "execution_count": 47,
     "metadata": {},
     "output_type": "execute_result"
    }
   ],
   "source": [
    "sellers.head(2)"
   ]
  },
  {
   "cell_type": "code",
   "execution_count": 48,
   "id": "8f4d7cf0",
   "metadata": {},
   "outputs": [
    {
     "name": "stdout",
     "output_type": "stream",
     "text": [
      "<class 'pandas.core.frame.DataFrame'>\n",
      "RangeIndex: 3095 entries, 0 to 3094\n",
      "Data columns (total 4 columns):\n",
      " #   Column                  Non-Null Count  Dtype \n",
      "---  ------                  --------------  ----- \n",
      " 0   seller_id               3095 non-null   object\n",
      " 1   seller_zip_code_prefix  3095 non-null   int64 \n",
      " 2   seller_city             3038 non-null   object\n",
      " 3   seller_state            3038 non-null   object\n",
      "dtypes: int64(1), object(3)\n",
      "memory usage: 96.8+ KB\n"
     ]
    }
   ],
   "source": [
    "sellers.info()"
   ]
  },
  {
   "cell_type": "code",
   "execution_count": 49,
   "id": "bcbf5590",
   "metadata": {},
   "outputs": [
    {
     "data": {
      "text/plain": [
       "seller_id                 0.00000\n",
       "seller_zip_code_prefix    0.00000\n",
       "seller_city               1.84168\n",
       "seller_state              1.84168\n",
       "dtype: float64"
      ]
     },
     "execution_count": 49,
     "metadata": {},
     "output_type": "execute_result"
    }
   ],
   "source": [
    "(sellers.isnull().sum()/len(sellers))*100"
   ]
  },
  {
   "cell_type": "code",
   "execution_count": 50,
   "id": "40cdeaec",
   "metadata": {},
   "outputs": [
    {
     "data": {
      "text/plain": [
       "0"
      ]
     },
     "execution_count": 50,
     "metadata": {},
     "output_type": "execute_result"
    }
   ],
   "source": [
    "sellers.duplicated().sum()"
   ]
  },
  {
   "cell_type": "code",
   "execution_count": 51,
   "id": "2018ea82",
   "metadata": {},
   "outputs": [
    {
     "name": "stdout",
     "output_type": "stream",
     "text": [
      "<class 'pandas.core.frame.DataFrame'>\n",
      "RangeIndex: 118050 entries, 0 to 118049\n",
      "Data columns (total 38 columns):\n",
      " #   Column                         Non-Null Count   Dtype         \n",
      "---  ------                         --------------   -----         \n",
      " 0   review_id                      118050 non-null  object        \n",
      " 1   order_id                       118050 non-null  object        \n",
      " 2   review_score                   118050 non-null  int64         \n",
      " 3   review_creation_date           118050 non-null  datetime64[ns]\n",
      " 4   review_answer_timestamp        118050 non-null  datetime64[ns]\n",
      " 5   customer_id                    118050 non-null  object        \n",
      " 6   order_status                   118050 non-null  object        \n",
      " 7   order_purchase_timestamp       118050 non-null  datetime64[ns]\n",
      " 8   order_approved_at              118035 non-null  datetime64[ns]\n",
      " 9   order_delivered_carrier_date   116800 non-null  datetime64[ns]\n",
      " 10  order_delivered_customer_date  115466 non-null  datetime64[ns]\n",
      " 11  order_estimated_delivery_date  118050 non-null  datetime64[ns]\n",
      " 12  payment_sequential             118050 non-null  int64         \n",
      " 13  payment_type                   118050 non-null  object        \n",
      " 14  payment_installments           118050 non-null  int64         \n",
      " 15  payment_value                  118050 non-null  float64       \n",
      " 16  order_item_id                  118050 non-null  int64         \n",
      " 17  product_id                     118050 non-null  object        \n",
      " 18  seller_id                      118050 non-null  object        \n",
      " 19  shipping_limit_date            118050 non-null  datetime64[ns]\n",
      " 20  price                          118050 non-null  float64       \n",
      " 21  freight_value                  118050 non-null  float64       \n",
      " 22  product_category_name          116317 non-null  object        \n",
      " 23  product_name_lenght            116342 non-null  float64       \n",
      " 24  product_description_lenght     116342 non-null  float64       \n",
      " 25  product_photos_qty             116342 non-null  float64       \n",
      " 26  product_weight_g               118030 non-null  float64       \n",
      " 27  product_length_cm              118030 non-null  float64       \n",
      " 28  product_height_cm              118030 non-null  float64       \n",
      " 29  product_width_cm               118030 non-null  float64       \n",
      " 30  seller_zip_code_prefix         118050 non-null  int64         \n",
      " 31  seller_city                    116399 non-null  object        \n",
      " 32  seller_state                   116399 non-null  object        \n",
      " 33  geolocation_zip_code_prefix    118050 non-null  int64         \n",
      " 34  geolocation_lat                118050 non-null  float64       \n",
      " 35  geolocation_lng                118050 non-null  float64       \n",
      " 36  geolocation_city               118050 non-null  object        \n",
      " 37  geolocation_state              118050 non-null  object        \n",
      "dtypes: datetime64[ns](8), float64(12), int64(6), object(12)\n",
      "memory usage: 34.2+ MB\n"
     ]
    }
   ],
   "source": [
    "final=pd.merge(left=order_ratings,right=orders,on='order_id',how='inner')\n",
    "final=pd.merge(left=final,right=order_payment,on='order_id',how='inner')\n",
    "final=pd.merge(left=final,right=order_item,on='order_id',how='inner')\n",
    "final=pd.merge(left=final,right=products,on='product_id',how='inner')\n",
    "final=pd.merge(left=final,right=sellers,on='seller_id',how='inner')\n",
    "final=pd.merge(left=final,right=g_loc,left_on='seller_zip_code_prefix',right_on='geolocation_zip_code_prefix',how='inner')\n",
    "final.info()"
   ]
  },
  {
   "cell_type": "code",
   "execution_count": 52,
   "id": "854db8cb",
   "metadata": {},
   "outputs": [
    {
     "data": {
      "text/plain": [
       "review_id                        0.000000\n",
       "order_id                         0.000000\n",
       "review_score                     0.000000\n",
       "review_creation_date             0.000000\n",
       "review_answer_timestamp          0.000000\n",
       "customer_id                      0.000000\n",
       "order_status                     0.000000\n",
       "order_purchase_timestamp         0.000000\n",
       "order_approved_at                0.012706\n",
       "order_delivered_carrier_date     1.058873\n",
       "order_delivered_customer_date    2.188903\n",
       "order_estimated_delivery_date    0.000000\n",
       "payment_sequential               0.000000\n",
       "payment_type                     0.000000\n",
       "payment_installments             0.000000\n",
       "payment_value                    0.000000\n",
       "order_item_id                    0.000000\n",
       "product_id                       0.000000\n",
       "seller_id                        0.000000\n",
       "shipping_limit_date              0.000000\n",
       "price                            0.000000\n",
       "freight_value                    0.000000\n",
       "product_category_name            1.468022\n",
       "product_name_lenght              1.446845\n",
       "product_description_lenght       1.446845\n",
       "product_photos_qty               1.446845\n",
       "product_weight_g                 0.016942\n",
       "product_length_cm                0.016942\n",
       "product_height_cm                0.016942\n",
       "product_width_cm                 0.016942\n",
       "seller_zip_code_prefix           0.000000\n",
       "seller_city                      1.398560\n",
       "seller_state                     1.398560\n",
       "geolocation_zip_code_prefix      0.000000\n",
       "geolocation_lat                  0.000000\n",
       "geolocation_lng                  0.000000\n",
       "geolocation_city                 0.000000\n",
       "geolocation_state                0.000000\n",
       "dtype: float64"
      ]
     },
     "execution_count": 52,
     "metadata": {},
     "output_type": "execute_result"
    }
   ],
   "source": [
    "(final.isnull().sum()/len(final))*100"
   ]
  },
  {
   "cell_type": "code",
   "execution_count": 53,
   "id": "deca720b",
   "metadata": {},
   "outputs": [
    {
     "data": {
      "text/plain": [
       "review_id                        0\n",
       "order_id                         0\n",
       "review_score                     0\n",
       "review_creation_date             0\n",
       "review_answer_timestamp          0\n",
       "customer_id                      0\n",
       "order_status                     0\n",
       "order_purchase_timestamp         0\n",
       "order_approved_at                0\n",
       "order_delivered_carrier_date     0\n",
       "order_delivered_customer_date    0\n",
       "order_estimated_delivery_date    0\n",
       "payment_sequential               0\n",
       "payment_type                     0\n",
       "payment_installments             0\n",
       "payment_value                    0\n",
       "order_item_id                    0\n",
       "product_id                       0\n",
       "seller_id                        0\n",
       "shipping_limit_date              0\n",
       "price                            0\n",
       "freight_value                    0\n",
       "product_category_name            0\n",
       "product_name_lenght              0\n",
       "product_description_lenght       0\n",
       "product_photos_qty               0\n",
       "product_weight_g                 0\n",
       "product_length_cm                0\n",
       "product_height_cm                0\n",
       "product_width_cm                 0\n",
       "seller_zip_code_prefix           0\n",
       "seller_city                      0\n",
       "seller_state                     0\n",
       "geolocation_zip_code_prefix      0\n",
       "geolocation_lat                  0\n",
       "geolocation_lng                  0\n",
       "geolocation_city                 0\n",
       "geolocation_state                0\n",
       "dtype: int64"
      ]
     },
     "execution_count": 53,
     "metadata": {},
     "output_type": "execute_result"
    }
   ],
   "source": [
    "final.dropna(inplace=True)\n",
    "final.isnull().sum()"
   ]
  },
  {
   "cell_type": "code",
   "execution_count": 54,
   "id": "b737bddb",
   "metadata": {},
   "outputs": [
    {
     "data": {
      "text/plain": [
       "0"
      ]
     },
     "execution_count": 54,
     "metadata": {},
     "output_type": "execute_result"
    }
   ],
   "source": [
    "final.duplicated().sum()"
   ]
  },
  {
   "cell_type": "code",
   "execution_count": 55,
   "id": "1ca4d0f0",
   "metadata": {},
   "outputs": [
    {
     "data": {
      "text/html": [
       "<div>\n",
       "<style scoped>\n",
       "    .dataframe tbody tr th:only-of-type {\n",
       "        vertical-align: middle;\n",
       "    }\n",
       "\n",
       "    .dataframe tbody tr th {\n",
       "        vertical-align: top;\n",
       "    }\n",
       "\n",
       "    .dataframe thead th {\n",
       "        text-align: right;\n",
       "    }\n",
       "</style>\n",
       "<table border=\"1\" class=\"dataframe\">\n",
       "  <thead>\n",
       "    <tr style=\"text-align: right;\">\n",
       "      <th></th>\n",
       "      <th>review_id</th>\n",
       "      <th>order_id</th>\n",
       "      <th>review_score</th>\n",
       "      <th>review_creation_date</th>\n",
       "      <th>review_answer_timestamp</th>\n",
       "      <th>customer_id</th>\n",
       "      <th>order_status</th>\n",
       "      <th>order_purchase_timestamp</th>\n",
       "      <th>order_approved_at</th>\n",
       "      <th>order_delivered_carrier_date</th>\n",
       "      <th>...</th>\n",
       "      <th>product_height_cm</th>\n",
       "      <th>product_width_cm</th>\n",
       "      <th>seller_zip_code_prefix</th>\n",
       "      <th>seller_city</th>\n",
       "      <th>seller_state</th>\n",
       "      <th>geolocation_zip_code_prefix</th>\n",
       "      <th>geolocation_lat</th>\n",
       "      <th>geolocation_lng</th>\n",
       "      <th>geolocation_city</th>\n",
       "      <th>geolocation_state</th>\n",
       "    </tr>\n",
       "  </thead>\n",
       "  <tbody>\n",
       "    <tr>\n",
       "      <th>0</th>\n",
       "      <td>7bc2406110b926393aa56f80a40eba40</td>\n",
       "      <td>73fc7af87114b39712e6da79b0a377eb</td>\n",
       "      <td>4</td>\n",
       "      <td>2018-01-18</td>\n",
       "      <td>2018-01-18 21:46:00</td>\n",
       "      <td>41dcb106f807e993532d446263290104</td>\n",
       "      <td>delivered</td>\n",
       "      <td>2018-01-11 15:30:00</td>\n",
       "      <td>2018-01-11 15:47:00</td>\n",
       "      <td>2018-01-12 21:57:00</td>\n",
       "      <td>...</td>\n",
       "      <td>30.0</td>\n",
       "      <td>35.0</td>\n",
       "      <td>14600</td>\n",
       "      <td>Kandukur</td>\n",
       "      <td>Andhra Pradesh</td>\n",
       "      <td>14600</td>\n",
       "      <td>-20.581177</td>\n",
       "      <td>-47.858931</td>\n",
       "      <td>Kandukur</td>\n",
       "      <td>Andhra Pradesh</td>\n",
       "    </tr>\n",
       "    <tr>\n",
       "      <th>1</th>\n",
       "      <td>7bc2406110b926393aa56f80a40eba40</td>\n",
       "      <td>73fc7af87114b39712e6da79b0a377eb</td>\n",
       "      <td>4</td>\n",
       "      <td>2018-01-18</td>\n",
       "      <td>2018-01-18 21:46:00</td>\n",
       "      <td>41dcb106f807e993532d446263290104</td>\n",
       "      <td>delivered</td>\n",
       "      <td>2018-01-11 15:30:00</td>\n",
       "      <td>2018-01-11 15:47:00</td>\n",
       "      <td>2018-01-12 21:57:00</td>\n",
       "      <td>...</td>\n",
       "      <td>30.0</td>\n",
       "      <td>35.0</td>\n",
       "      <td>14600</td>\n",
       "      <td>Kandukur</td>\n",
       "      <td>Andhra Pradesh</td>\n",
       "      <td>14600</td>\n",
       "      <td>-20.581177</td>\n",
       "      <td>-47.858931</td>\n",
       "      <td>Kandukur</td>\n",
       "      <td>Andhra Pradesh</td>\n",
       "    </tr>\n",
       "  </tbody>\n",
       "</table>\n",
       "<p>2 rows × 38 columns</p>\n",
       "</div>"
      ],
      "text/plain": [
       "                          review_id                          order_id  \\\n",
       "0  7bc2406110b926393aa56f80a40eba40  73fc7af87114b39712e6da79b0a377eb   \n",
       "1  7bc2406110b926393aa56f80a40eba40  73fc7af87114b39712e6da79b0a377eb   \n",
       "\n",
       "   review_score review_creation_date review_answer_timestamp  \\\n",
       "0             4           2018-01-18     2018-01-18 21:46:00   \n",
       "1             4           2018-01-18     2018-01-18 21:46:00   \n",
       "\n",
       "                        customer_id order_status order_purchase_timestamp  \\\n",
       "0  41dcb106f807e993532d446263290104    delivered      2018-01-11 15:30:00   \n",
       "1  41dcb106f807e993532d446263290104    delivered      2018-01-11 15:30:00   \n",
       "\n",
       "    order_approved_at order_delivered_carrier_date  ... product_height_cm  \\\n",
       "0 2018-01-11 15:47:00          2018-01-12 21:57:00  ...              30.0   \n",
       "1 2018-01-11 15:47:00          2018-01-12 21:57:00  ...              30.0   \n",
       "\n",
       "  product_width_cm  seller_zip_code_prefix seller_city    seller_state  \\\n",
       "0             35.0                   14600    Kandukur  Andhra Pradesh   \n",
       "1             35.0                   14600    Kandukur  Andhra Pradesh   \n",
       "\n",
       "   geolocation_zip_code_prefix  geolocation_lat geolocation_lng  \\\n",
       "0                        14600       -20.581177      -47.858931   \n",
       "1                        14600       -20.581177      -47.858931   \n",
       "\n",
       "  geolocation_city geolocation_state  \n",
       "0         Kandukur    Andhra Pradesh  \n",
       "1         Kandukur    Andhra Pradesh  \n",
       "\n",
       "[2 rows x 38 columns]"
      ]
     },
     "execution_count": 55,
     "metadata": {},
     "output_type": "execute_result"
    }
   ],
   "source": [
    "final.head(2)"
   ]
  },
  {
   "cell_type": "markdown",
   "id": "1c6b0619",
   "metadata": {},
   "source": [
    "### 1. Perform Detailed exploratory analysis\n",
    "### a. Define & calculate high level metrics like (Total Revenue, Total quantity, Total  products, Total categories, Total sellers, Total locations, Total channels, Total payment methods etc…)"
   ]
  },
  {
   "cell_type": "code",
   "execution_count": 56,
   "id": "9b077153",
   "metadata": {},
   "outputs": [],
   "source": [
    "final=final.rename(columns={'order_item_id':'Qty'})"
   ]
  },
  {
   "cell_type": "code",
   "execution_count": 57,
   "id": "32dc02a0",
   "metadata": {},
   "outputs": [],
   "source": [
    "##  total revenue \n",
    "#Using payment_value (Total amount paid by customers including any additional costs)\n",
    "total_revenue=final['payment_value'].sum()"
   ]
  },
  {
   "cell_type": "code",
   "execution_count": 58,
   "id": "a75e1df0",
   "metadata": {},
   "outputs": [],
   "source": [
    "##Using price (Only the price of products sold)\n",
    "revenue=final.price.sum()"
   ]
  },
  {
   "cell_type": "code",
   "execution_count": 59,
   "id": "c2222d31",
   "metadata": {},
   "outputs": [
    {
     "name": "stdout",
     "output_type": "stream",
     "text": [
      "Total revenue: 19174545.66\n",
      "Total Quantity: 134450\n",
      "Total products: 31022\n",
      "Total products_categories: 71\n",
      "Total sellers: 2850\n",
      "Total locations: 2072\n",
      "Total channels: 2\n",
      "Total payment methods: 4\n"
     ]
    }
   ],
   "source": [
    "print(\"Total revenue:\", final.payment_value.sum())\n",
    "print(\"Total Quantity:\", final.Qty.sum())\n",
    "print(\"Total products:\", final.product_id.nunique())\n",
    "print(\"Total products_categories:\", final.product_category_name.nunique())\n",
    "print(\"Total sellers:\", final.seller_id.nunique())\n",
    "print(\"Total locations:\", final.geolocation_zip_code_prefix.nunique())\n",
    "print(\"Total channels:\", final.order_status.nunique())\n",
    "print(\"Total payment methods:\", final.payment_type.nunique())"
   ]
  },
  {
   "cell_type": "markdown",
   "id": "84242c4f",
   "metadata": {},
   "source": [
    "### b. Understanding how many new customers acquired every month\n"
   ]
  },
  {
   "cell_type": "code",
   "execution_count": 60,
   "id": "1c99ba4c",
   "metadata": {},
   "outputs": [
    {
     "data": {
      "text/html": [
       "<div>\n",
       "<style scoped>\n",
       "    .dataframe tbody tr th:only-of-type {\n",
       "        vertical-align: middle;\n",
       "    }\n",
       "\n",
       "    .dataframe tbody tr th {\n",
       "        vertical-align: top;\n",
       "    }\n",
       "\n",
       "    .dataframe thead th {\n",
       "        text-align: right;\n",
       "    }\n",
       "</style>\n",
       "<table border=\"1\" class=\"dataframe\">\n",
       "  <thead>\n",
       "    <tr style=\"text-align: right;\">\n",
       "      <th></th>\n",
       "      <th>Yr-Mo</th>\n",
       "      <th>new_customers</th>\n",
       "    </tr>\n",
       "  </thead>\n",
       "  <tbody>\n",
       "    <tr>\n",
       "      <th>0</th>\n",
       "      <td>2016-10</td>\n",
       "      <td>178</td>\n",
       "    </tr>\n",
       "    <tr>\n",
       "      <th>1</th>\n",
       "      <td>2016-11</td>\n",
       "      <td>45</td>\n",
       "    </tr>\n",
       "    <tr>\n",
       "      <th>2</th>\n",
       "      <td>2016-12</td>\n",
       "      <td>4</td>\n",
       "    </tr>\n",
       "    <tr>\n",
       "      <th>3</th>\n",
       "      <td>2017-01</td>\n",
       "      <td>248</td>\n",
       "    </tr>\n",
       "    <tr>\n",
       "      <th>4</th>\n",
       "      <td>2017-02</td>\n",
       "      <td>1104</td>\n",
       "    </tr>\n",
       "  </tbody>\n",
       "</table>\n",
       "</div>"
      ],
      "text/plain": [
       "     Yr-Mo  new_customers\n",
       "0  2016-10            178\n",
       "1  2016-11             45\n",
       "2  2016-12              4\n",
       "3  2017-01            248\n",
       "4  2017-02           1104"
      ]
     },
     "execution_count": 60,
     "metadata": {},
     "output_type": "execute_result"
    }
   ],
   "source": [
    "final['Yr-Mo'] = final['order_delivered_customer_date'].dt.strftime('%Y-%m')\n",
    "final['count_orders'] = 1\n",
    "cust = final[['order_id','count_orders','Yr-Mo']].groupby(by=['order_id', 'Yr-Mo']).agg({'count_orders': 'sum'}).reset_index()\n",
    "\n",
    "cust_new = cust[cust['count_orders'] <= 1].groupby('Yr-Mo').agg({'order_id': 'count'}).reset_index()\n",
    "cust_new = cust_new.rename(columns={'order_id': 'new_customers'})\n",
    "cust_new.head()"
   ]
  },
  {
   "cell_type": "code",
   "execution_count": 61,
   "id": "870055bb",
   "metadata": {},
   "outputs": [],
   "source": [
    "#final1=final.groupby(by='order_id').order_id.count().rename('number').reset_index()\n",
    "#final=pd.merge(left=final,right=final1,on='order_id',how='inner')"
   ]
  },
  {
   "cell_type": "code",
   "execution_count": 62,
   "id": "34c789ef",
   "metadata": {},
   "outputs": [],
   "source": [
    "#c1 = final[['order_id','number','Yr-Mo']].groupby(by=['order_id','Yr-Mo']).sum().reset_index()\n",
    "\n",
    "#c2 = c1[c1['number']<= 1].groupby('Yr-Mo').agg({'order_id':'count'})\n",
    "#c2 = c2.rename(columns={'order_id':'new_customers'})"
   ]
  },
  {
   "cell_type": "markdown",
   "id": "d8f55695",
   "metadata": {},
   "source": [
    "\n",
    "\n",
    "### c. Understand the retention of customers on month on month basis"
   ]
  },
  {
   "cell_type": "code",
   "execution_count": 63,
   "id": "c652141e",
   "metadata": {},
   "outputs": [
    {
     "data": {
      "text/html": [
       "<div>\n",
       "<style scoped>\n",
       "    .dataframe tbody tr th:only-of-type {\n",
       "        vertical-align: middle;\n",
       "    }\n",
       "\n",
       "    .dataframe tbody tr th {\n",
       "        vertical-align: top;\n",
       "    }\n",
       "\n",
       "    .dataframe thead th {\n",
       "        text-align: right;\n",
       "    }\n",
       "</style>\n",
       "<table border=\"1\" class=\"dataframe\">\n",
       "  <thead>\n",
       "    <tr style=\"text-align: right;\">\n",
       "      <th></th>\n",
       "      <th>Yr-Mo</th>\n",
       "      <th>new_customers</th>\n",
       "    </tr>\n",
       "  </thead>\n",
       "  <tbody>\n",
       "    <tr>\n",
       "      <th>0</th>\n",
       "      <td>2016-10</td>\n",
       "      <td>178</td>\n",
       "    </tr>\n",
       "    <tr>\n",
       "      <th>1</th>\n",
       "      <td>2016-11</td>\n",
       "      <td>45</td>\n",
       "    </tr>\n",
       "    <tr>\n",
       "      <th>2</th>\n",
       "      <td>2016-12</td>\n",
       "      <td>4</td>\n",
       "    </tr>\n",
       "    <tr>\n",
       "      <th>3</th>\n",
       "      <td>2017-01</td>\n",
       "      <td>248</td>\n",
       "    </tr>\n",
       "    <tr>\n",
       "      <th>4</th>\n",
       "      <td>2017-02</td>\n",
       "      <td>1104</td>\n",
       "    </tr>\n",
       "  </tbody>\n",
       "</table>\n",
       "</div>"
      ],
      "text/plain": [
       "     Yr-Mo  new_customers\n",
       "0  2016-10            178\n",
       "1  2016-11             45\n",
       "2  2016-12              4\n",
       "3  2017-01            248\n",
       "4  2017-02           1104"
      ]
     },
     "execution_count": 63,
     "metadata": {},
     "output_type": "execute_result"
    }
   ],
   "source": [
    "cust_retain = cust[cust['count_orders'] > 1].groupby('Yr-Mo').agg({'order_id': 'count'}).reset_index()\n",
    "cust_retain = cust_new.rename(columns={'order_id': 'old_customers'})\n",
    "cust_retain.head()"
   ]
  },
  {
   "cell_type": "markdown",
   "id": "d0f1595a",
   "metadata": {},
   "source": [
    "### d. How the revenues from existing/new customers on month on month basis"
   ]
  },
  {
   "cell_type": "code",
   "execution_count": 64,
   "id": "b8604e13",
   "metadata": {},
   "outputs": [],
   "source": [
    "final['revenue']=final['price']+final['freight_value']"
   ]
  },
  {
   "cell_type": "code",
   "execution_count": 65,
   "id": "41d357c8",
   "metadata": {},
   "outputs": [
    {
     "data": {
      "text/html": [
       "<div>\n",
       "<style scoped>\n",
       "    .dataframe tbody tr th:only-of-type {\n",
       "        vertical-align: middle;\n",
       "    }\n",
       "\n",
       "    .dataframe tbody tr th {\n",
       "        vertical-align: top;\n",
       "    }\n",
       "\n",
       "    .dataframe thead th {\n",
       "        text-align: right;\n",
       "    }\n",
       "</style>\n",
       "<table border=\"1\" class=\"dataframe\">\n",
       "  <thead>\n",
       "    <tr style=\"text-align: right;\">\n",
       "      <th></th>\n",
       "      <th>Yr-Mo</th>\n",
       "      <th>count_retained</th>\n",
       "      <th>retained_revenue</th>\n",
       "    </tr>\n",
       "  </thead>\n",
       "  <tbody>\n",
       "    <tr>\n",
       "      <th>0</th>\n",
       "      <td>2016-10</td>\n",
       "      <td>28</td>\n",
       "      <td>6618.56</td>\n",
       "    </tr>\n",
       "    <tr>\n",
       "      <th>1</th>\n",
       "      <td>2016-11</td>\n",
       "      <td>14</td>\n",
       "      <td>4802.16</td>\n",
       "    </tr>\n",
       "    <tr>\n",
       "      <th>2</th>\n",
       "      <td>2017-01</td>\n",
       "      <td>32</td>\n",
       "      <td>11430.39</td>\n",
       "    </tr>\n",
       "    <tr>\n",
       "      <th>3</th>\n",
       "      <td>2017-02</td>\n",
       "      <td>189</td>\n",
       "      <td>55302.57</td>\n",
       "    </tr>\n",
       "    <tr>\n",
       "      <th>4</th>\n",
       "      <td>2017-03</td>\n",
       "      <td>313</td>\n",
       "      <td>91347.65</td>\n",
       "    </tr>\n",
       "  </tbody>\n",
       "</table>\n",
       "</div>"
      ],
      "text/plain": [
       "     Yr-Mo  count_retained  retained_revenue\n",
       "0  2016-10              28           6618.56\n",
       "1  2016-11              14           4802.16\n",
       "2  2017-01              32          11430.39\n",
       "3  2017-02             189          55302.57\n",
       "4  2017-03             313          91347.65"
      ]
     },
     "execution_count": 65,
     "metadata": {},
     "output_type": "execute_result"
    }
   ],
   "source": [
    "cust1 = final[['order_id','count_orders','Yr-Mo','revenue']].groupby(by=['order_id', 'Yr-Mo']).agg({'count_orders': 'sum','revenue':'sum'}).reset_index()\n",
    "cust_retain1 = cust1[cust1['count_orders'] > 1].groupby('Yr-Mo').agg({'order_id':'count','revenue':'sum'}).reset_index()\n",
    "cust_retain1.rename(columns={'order_id':'count_retained','revenue':'retained_revenue'},inplace=True)\n",
    "cust_retain1.head()"
   ]
  },
  {
   "cell_type": "code",
   "execution_count": 66,
   "id": "13538b0f",
   "metadata": {},
   "outputs": [],
   "source": [
    "cust_new1 = cust1[cust1['count_orders'] <= 1].groupby('Yr-Mo').agg({'order_id': 'count','revenue':'sum'}).reset_index()\n",
    "cust_new1.rename(columns={'order_id':'count_new','revenue':'new_revenue'},inplace=True)"
   ]
  },
  {
   "cell_type": "code",
   "execution_count": 67,
   "id": "afef61be",
   "metadata": {},
   "outputs": [
    {
     "data": {
      "text/html": [
       "<div>\n",
       "<style scoped>\n",
       "    .dataframe tbody tr th:only-of-type {\n",
       "        vertical-align: middle;\n",
       "    }\n",
       "\n",
       "    .dataframe tbody tr th {\n",
       "        vertical-align: top;\n",
       "    }\n",
       "\n",
       "    .dataframe thead th {\n",
       "        text-align: right;\n",
       "    }\n",
       "</style>\n",
       "<table border=\"1\" class=\"dataframe\">\n",
       "  <thead>\n",
       "    <tr style=\"text-align: right;\">\n",
       "      <th></th>\n",
       "      <th>Yr-Mo</th>\n",
       "      <th>count_retained</th>\n",
       "      <th>retained_revenue</th>\n",
       "      <th>Yr-Mo</th>\n",
       "      <th>count_new</th>\n",
       "      <th>new_revenue</th>\n",
       "    </tr>\n",
       "  </thead>\n",
       "  <tbody>\n",
       "    <tr>\n",
       "      <th>0</th>\n",
       "      <td>2016-10</td>\n",
       "      <td>28.0</td>\n",
       "      <td>6618.56</td>\n",
       "      <td>2016-10</td>\n",
       "      <td>178</td>\n",
       "      <td>29186.65</td>\n",
       "    </tr>\n",
       "    <tr>\n",
       "      <th>1</th>\n",
       "      <td>2016-11</td>\n",
       "      <td>14.0</td>\n",
       "      <td>4802.16</td>\n",
       "      <td>2016-11</td>\n",
       "      <td>45</td>\n",
       "      <td>7794.17</td>\n",
       "    </tr>\n",
       "    <tr>\n",
       "      <th>2</th>\n",
       "      <td>2017-01</td>\n",
       "      <td>32.0</td>\n",
       "      <td>11430.39</td>\n",
       "      <td>2016-12</td>\n",
       "      <td>4</td>\n",
       "      <td>960.85</td>\n",
       "    </tr>\n",
       "  </tbody>\n",
       "</table>\n",
       "</div>"
      ],
      "text/plain": [
       "     Yr-Mo  count_retained  retained_revenue    Yr-Mo  count_new  new_revenue\n",
       "0  2016-10            28.0           6618.56  2016-10        178     29186.65\n",
       "1  2016-11            14.0           4802.16  2016-11         45      7794.17\n",
       "2  2017-01            32.0          11430.39  2016-12          4       960.85"
      ]
     },
     "execution_count": 67,
     "metadata": {},
     "output_type": "execute_result"
    }
   ],
   "source": [
    "pd.concat([cust_retain1,cust_new1],axis=1).head(3)"
   ]
  },
  {
   "cell_type": "markdown",
   "id": "3ee0bce5",
   "metadata": {},
   "source": [
    "### e. Understand the trends/seasonality of sales, quantity by category, location, month, week, day, time, channel, payment method etc…"
   ]
  },
  {
   "cell_type": "code",
   "execution_count": 68,
   "id": "19c92048",
   "metadata": {},
   "outputs": [],
   "source": [
    "final['year']=final['order_purchase_timestamp'].dt.strftime('%Y')\n",
    "final['month']=final['order_purchase_timestamp'].dt.strftime('%m')\n",
    "final['week']=final['order_purchase_timestamp'].dt.strftime('%w')\n",
    "final['day']=final['order_purchase_timestamp'].dt.strftime('%d')"
   ]
  },
  {
   "cell_type": "code",
   "execution_count": 69,
   "id": "61846a58",
   "metadata": {},
   "outputs": [
    {
     "data": {
      "image/png": "[encoded data removed]",
      "text/plain": [
       "<Figure size 360x288 with 1 Axes>"
      ]
     },
     "metadata": {
      "needs_background": "light"
     },
     "output_type": "display_data"
    }
   ],
   "source": [
    "yearly=final[['year','payment_value']].groupby(by=['year']).sum()\n",
    "yearly.plot(kind='bar',xlabel='year',ylabel='sales',figsize=(5,4))\n",
    "plt.show()"
   ]
  },
  {
   "cell_type": "code",
   "execution_count": 70,
   "id": "246eabd4",
   "metadata": {},
   "outputs": [
    {
     "data": {
      "image/png": "[encoded data removed]",
      "text/plain": [
       "<Figure size 576x216 with 1 Axes>"
      ]
     },
     "metadata": {
      "needs_background": "light"
     },
     "output_type": "display_data"
    }
   ],
   "source": [
    "monthly=final[['month','payment_value']].groupby(by=['month']).sum()\n",
    "monthly.plot(kind='bar',xlabel='month',ylabel='sales',figsize=(8,3))\n",
    "plt.show()"
   ]
  },
  {
   "cell_type": "code",
   "execution_count": 71,
   "id": "ae5412c0",
   "metadata": {},
   "outputs": [
    {
     "data": {
      "image/png": "[encoded data removed]",
      "text/plain": [
       "<Figure size 576x216 with 1 Axes>"
      ]
     },
     "metadata": {
      "needs_background": "light"
     },
     "output_type": "display_data"
    }
   ],
   "source": [
    "weekly=final[['week','payment_value']].groupby(by=['week']).sum()\n",
    "weekly.plot(kind='bar',xlabel='week',ylabel='sales',figsize=(8,3))\n",
    "plt.show()"
   ]
  },
  {
   "cell_type": "code",
   "execution_count": 72,
   "id": "02934bb4",
   "metadata": {},
   "outputs": [
    {
     "data": {
      "image/png": "[encoded data removed]",
      "text/plain": [
       "<Figure size 576x216 with 1 Axes>"
      ]
     },
     "metadata": {
      "needs_background": "light"
     },
     "output_type": "display_data"
    }
   ],
   "source": [
    "daily=final[['day','payment_value']].groupby(by=['day']).sum()\n",
    "daily.plot(kind='bar',xlabel='day',ylabel='sales',figsize=(8,3))\n",
    "plt.show()"
   ]
  },
  {
   "cell_type": "code",
   "execution_count": 73,
   "id": "e2ecbfe8",
   "metadata": {},
   "outputs": [
    {
     "data": {
      "text/html": [
       "<div>\n",
       "<style scoped>\n",
       "    .dataframe tbody tr th:only-of-type {\n",
       "        vertical-align: middle;\n",
       "    }\n",
       "\n",
       "    .dataframe tbody tr th {\n",
       "        vertical-align: top;\n",
       "    }\n",
       "\n",
       "    .dataframe thead th {\n",
       "        text-align: right;\n",
       "    }\n",
       "</style>\n",
       "<table border=\"1\" class=\"dataframe\">\n",
       "  <thead>\n",
       "    <tr style=\"text-align: right;\">\n",
       "      <th></th>\n",
       "      <th>product_category_name</th>\n",
       "      <th>Qty</th>\n",
       "      <th>payment_value</th>\n",
       "    </tr>\n",
       "  </thead>\n",
       "  <tbody>\n",
       "    <tr>\n",
       "      <th>0</th>\n",
       "      <td>Agro_Industry_And_Commerce</td>\n",
       "      <td>307</td>\n",
       "      <td>115430.02</td>\n",
       "    </tr>\n",
       "    <tr>\n",
       "      <th>1</th>\n",
       "      <td>Air_Conditioning</td>\n",
       "      <td>355</td>\n",
       "      <td>88669.59</td>\n",
       "    </tr>\n",
       "  </tbody>\n",
       "</table>\n",
       "</div>"
      ],
      "text/plain": [
       "        product_category_name  Qty  payment_value\n",
       "0  Agro_Industry_And_Commerce  307      115430.02\n",
       "1            Air_Conditioning  355       88669.59"
      ]
     },
     "execution_count": 73,
     "metadata": {},
     "output_type": "execute_result"
    }
   ],
   "source": [
    "qty=final[['Qty','product_category_name','payment_value']].groupby(by='product_category_name').sum().reset_index()\n",
    "qty.head(2)"
   ]
  },
  {
   "cell_type": "code",
   "execution_count": 74,
   "id": "fdc6097e",
   "metadata": {},
   "outputs": [
    {
     "data": {
      "text/html": [
       "<div>\n",
       "<style scoped>\n",
       "    .dataframe tbody tr th:only-of-type {\n",
       "        vertical-align: middle;\n",
       "    }\n",
       "\n",
       "    .dataframe tbody tr th {\n",
       "        vertical-align: top;\n",
       "    }\n",
       "\n",
       "    .dataframe thead th {\n",
       "        text-align: right;\n",
       "    }\n",
       "</style>\n",
       "<table border=\"1\" class=\"dataframe\">\n",
       "  <thead>\n",
       "    <tr style=\"text-align: right;\">\n",
       "      <th></th>\n",
       "      <th>product_category_name</th>\n",
       "      <th>geolocation_state</th>\n",
       "      <th>Qty</th>\n",
       "      <th>payment_value</th>\n",
       "    </tr>\n",
       "  </thead>\n",
       "  <tbody>\n",
       "    <tr>\n",
       "      <th>0</th>\n",
       "      <td>Agro_Industry_And_Commerce</td>\n",
       "      <td>Andhra Pradesh</td>\n",
       "      <td>250</td>\n",
       "      <td>109470.77</td>\n",
       "    </tr>\n",
       "    <tr>\n",
       "      <th>1</th>\n",
       "      <td>Agro_Industry_And_Commerce</td>\n",
       "      <td>Chhattisgarh</td>\n",
       "      <td>35</td>\n",
       "      <td>3163.85</td>\n",
       "    </tr>\n",
       "  </tbody>\n",
       "</table>\n",
       "</div>"
      ],
      "text/plain": [
       "        product_category_name geolocation_state  Qty  payment_value\n",
       "0  Agro_Industry_And_Commerce    Andhra Pradesh  250      109470.77\n",
       "1  Agro_Industry_And_Commerce      Chhattisgarh   35        3163.85"
      ]
     },
     "execution_count": 74,
     "metadata": {},
     "output_type": "execute_result"
    }
   ],
   "source": [
    "loc=final[['Qty', 'geolocation_state','payment_value','product_category_name']].groupby(by=['product_category_name','geolocation_state']).sum().reset_index()\n",
    "loc.head(2)"
   ]
  },
  {
   "cell_type": "code",
   "execution_count": 75,
   "id": "854cc32c",
   "metadata": {},
   "outputs": [
    {
     "data": {
      "text/html": [
       "<div>\n",
       "<style scoped>\n",
       "    .dataframe tbody tr th:only-of-type {\n",
       "        vertical-align: middle;\n",
       "    }\n",
       "\n",
       "    .dataframe tbody tr th {\n",
       "        vertical-align: top;\n",
       "    }\n",
       "\n",
       "    .dataframe thead th {\n",
       "        text-align: right;\n",
       "    }\n",
       "</style>\n",
       "<table border=\"1\" class=\"dataframe\">\n",
       "  <thead>\n",
       "    <tr style=\"text-align: right;\">\n",
       "      <th></th>\n",
       "      <th>payment_type</th>\n",
       "      <th>Qty</th>\n",
       "      <th>payment_value</th>\n",
       "    </tr>\n",
       "  </thead>\n",
       "  <tbody>\n",
       "    <tr>\n",
       "      <th>0</th>\n",
       "      <td>UPI</td>\n",
       "      <td>27335</td>\n",
       "      <td>3824275.99</td>\n",
       "    </tr>\n",
       "    <tr>\n",
       "      <th>1</th>\n",
       "      <td>credit_card</td>\n",
       "      <td>98447</td>\n",
       "      <td>14729132.45</td>\n",
       "    </tr>\n",
       "    <tr>\n",
       "      <th>2</th>\n",
       "      <td>debit_card</td>\n",
       "      <td>1855</td>\n",
       "      <td>235457.27</td>\n",
       "    </tr>\n",
       "    <tr>\n",
       "      <th>3</th>\n",
       "      <td>voucher</td>\n",
       "      <td>6813</td>\n",
       "      <td>385679.95</td>\n",
       "    </tr>\n",
       "  </tbody>\n",
       "</table>\n",
       "</div>"
      ],
      "text/plain": [
       "  payment_type    Qty  payment_value\n",
       "0          UPI  27335     3824275.99\n",
       "1  credit_card  98447    14729132.45\n",
       "2   debit_card   1855      235457.27\n",
       "3      voucher   6813      385679.95"
      ]
     },
     "execution_count": 75,
     "metadata": {},
     "output_type": "execute_result"
    }
   ],
   "source": [
    "p_type=final[['Qty','payment_type','payment_value']].groupby(by=['payment_type']).sum().reset_index()\n",
    "p_type"
   ]
  },
  {
   "cell_type": "markdown",
   "id": "43873aa9",
   "metadata": {},
   "source": [
    "### f. Popular Products by month, seller, state, category."
   ]
  },
  {
   "cell_type": "code",
   "execution_count": 76,
   "id": "aa925904",
   "metadata": {},
   "outputs": [
    {
     "data": {
      "text/html": [
       "<div>\n",
       "<style scoped>\n",
       "    .dataframe tbody tr th:only-of-type {\n",
       "        vertical-align: middle;\n",
       "    }\n",
       "\n",
       "    .dataframe tbody tr th {\n",
       "        vertical-align: top;\n",
       "    }\n",
       "\n",
       "    .dataframe thead th {\n",
       "        text-align: right;\n",
       "    }\n",
       "</style>\n",
       "<table border=\"1\" class=\"dataframe\">\n",
       "  <thead>\n",
       "    <tr style=\"text-align: right;\">\n",
       "      <th></th>\n",
       "      <th>geolocation_state</th>\n",
       "      <th>product_id</th>\n",
       "      <th>Qty</th>\n",
       "    </tr>\n",
       "  </thead>\n",
       "  <tbody>\n",
       "    <tr>\n",
       "      <th>0</th>\n",
       "      <td>Andhra Pradesh</td>\n",
       "      <td>422879e10f46682990de24d770e7f83d</td>\n",
       "      <td>826</td>\n",
       "    </tr>\n",
       "    <tr>\n",
       "      <th>2</th>\n",
       "      <td>Gujarat</td>\n",
       "      <td>99a4788cb24856965c36a24e339b6058</td>\n",
       "      <td>576</td>\n",
       "    </tr>\n",
       "  </tbody>\n",
       "</table>\n",
       "</div>"
      ],
      "text/plain": [
       "  geolocation_state                        product_id  Qty\n",
       "0    Andhra Pradesh  422879e10f46682990de24d770e7f83d  826\n",
       "2           Gujarat  99a4788cb24856965c36a24e339b6058  576"
      ]
     },
     "execution_count": 76,
     "metadata": {},
     "output_type": "execute_result"
    }
   ],
   "source": [
    "p=final[['geolocation_state','Qty','product_id']].groupby(by=['geolocation_state','product_id']).\\\n",
    "sum().sort_values(by='Qty',ascending=False).reset_index()\n",
    "p.drop_duplicates('geolocation_state').head(2)"
   ]
  },
  {
   "cell_type": "code",
   "execution_count": 77,
   "id": "253059d8",
   "metadata": {},
   "outputs": [
    {
     "data": {
      "text/html": [
       "<div>\n",
       "<style scoped>\n",
       "    .dataframe tbody tr th:only-of-type {\n",
       "        vertical-align: middle;\n",
       "    }\n",
       "\n",
       "    .dataframe tbody tr th {\n",
       "        vertical-align: top;\n",
       "    }\n",
       "\n",
       "    .dataframe thead th {\n",
       "        text-align: right;\n",
       "    }\n",
       "</style>\n",
       "<table border=\"1\" class=\"dataframe\">\n",
       "  <thead>\n",
       "    <tr style=\"text-align: right;\">\n",
       "      <th></th>\n",
       "      <th>month</th>\n",
       "      <th>product_id</th>\n",
       "      <th>Qty</th>\n",
       "    </tr>\n",
       "  </thead>\n",
       "  <tbody>\n",
       "    <tr>\n",
       "      <th>0</th>\n",
       "      <td>02</td>\n",
       "      <td>ee3d532c8a438679776d222e997606b3</td>\n",
       "      <td>215</td>\n",
       "    </tr>\n",
       "    <tr>\n",
       "      <th>1</th>\n",
       "      <td>08</td>\n",
       "      <td>9571759451b1d780ee7c15012ea109d4</td>\n",
       "      <td>210</td>\n",
       "    </tr>\n",
       "  </tbody>\n",
       "</table>\n",
       "</div>"
      ],
      "text/plain": [
       "  month                        product_id  Qty\n",
       "0    02  ee3d532c8a438679776d222e997606b3  215\n",
       "1    08  9571759451b1d780ee7c15012ea109d4  210"
      ]
     },
     "execution_count": 77,
     "metadata": {},
     "output_type": "execute_result"
    }
   ],
   "source": [
    "p1=final[['month','product_id','Qty']].groupby(by=['month','product_id']).sum().\\\n",
    "sort_values(by='Qty',ascending=False).reset_index()\n",
    "p1.drop_duplicates('month').head(2)"
   ]
  },
  {
   "cell_type": "code",
   "execution_count": 78,
   "id": "dc43ced3",
   "metadata": {},
   "outputs": [
    {
     "data": {
      "text/html": [
       "<div>\n",
       "<style scoped>\n",
       "    .dataframe tbody tr th:only-of-type {\n",
       "        vertical-align: middle;\n",
       "    }\n",
       "\n",
       "    .dataframe tbody tr th {\n",
       "        vertical-align: top;\n",
       "    }\n",
       "\n",
       "    .dataframe thead th {\n",
       "        text-align: right;\n",
       "    }\n",
       "</style>\n",
       "<table border=\"1\" class=\"dataframe\">\n",
       "  <thead>\n",
       "    <tr style=\"text-align: right;\">\n",
       "      <th></th>\n",
       "      <th>seller_id</th>\n",
       "      <th>product_id</th>\n",
       "      <th>Qty</th>\n",
       "    </tr>\n",
       "  </thead>\n",
       "  <tbody>\n",
       "    <tr>\n",
       "      <th>0</th>\n",
       "      <td>1f50f920176fa81dab994f9023523100</td>\n",
       "      <td>422879e10f46682990de24d770e7f83d</td>\n",
       "      <td>826</td>\n",
       "    </tr>\n",
       "    <tr>\n",
       "      <th>1</th>\n",
       "      <td>955fee9216a65b617aa5c0531780ce60</td>\n",
       "      <td>aca2eb7d00ea1a7b8ebd4e68314663af</td>\n",
       "      <td>642</td>\n",
       "    </tr>\n",
       "  </tbody>\n",
       "</table>\n",
       "</div>"
      ],
      "text/plain": [
       "                          seller_id                        product_id  Qty\n",
       "0  1f50f920176fa81dab994f9023523100  422879e10f46682990de24d770e7f83d  826\n",
       "1  955fee9216a65b617aa5c0531780ce60  aca2eb7d00ea1a7b8ebd4e68314663af  642"
      ]
     },
     "execution_count": 78,
     "metadata": {},
     "output_type": "execute_result"
    }
   ],
   "source": [
    "p2=final[['seller_id','product_id','Qty']].groupby(by=['seller_id','product_id']).sum().\\\n",
    "sort_values(by='Qty',ascending=False).reset_index()\n",
    "p2.drop_duplicates('seller_id').head(2)"
   ]
  },
  {
   "cell_type": "code",
   "execution_count": 79,
   "id": "9b20e0eb",
   "metadata": {},
   "outputs": [
    {
     "data": {
      "text/html": [
       "<div>\n",
       "<style scoped>\n",
       "    .dataframe tbody tr th:only-of-type {\n",
       "        vertical-align: middle;\n",
       "    }\n",
       "\n",
       "    .dataframe tbody tr th {\n",
       "        vertical-align: top;\n",
       "    }\n",
       "\n",
       "    .dataframe thead th {\n",
       "        text-align: right;\n",
       "    }\n",
       "</style>\n",
       "<table border=\"1\" class=\"dataframe\">\n",
       "  <thead>\n",
       "    <tr style=\"text-align: right;\">\n",
       "      <th></th>\n",
       "      <th>product_id</th>\n",
       "      <th>product_category_name</th>\n",
       "      <th>Qty</th>\n",
       "    </tr>\n",
       "  </thead>\n",
       "  <tbody>\n",
       "    <tr>\n",
       "      <th>0</th>\n",
       "      <td>422879e10f46682990de24d770e7f83d</td>\n",
       "      <td>Garden_Tools</td>\n",
       "      <td>826</td>\n",
       "    </tr>\n",
       "    <tr>\n",
       "      <th>1</th>\n",
       "      <td>aca2eb7d00ea1a7b8ebd4e68314663af</td>\n",
       "      <td>Furniture_Decor</td>\n",
       "      <td>642</td>\n",
       "    </tr>\n",
       "  </tbody>\n",
       "</table>\n",
       "</div>"
      ],
      "text/plain": [
       "                         product_id product_category_name  Qty\n",
       "0  422879e10f46682990de24d770e7f83d          Garden_Tools  826\n",
       "1  aca2eb7d00ea1a7b8ebd4e68314663af       Furniture_Decor  642"
      ]
     },
     "execution_count": 79,
     "metadata": {},
     "output_type": "execute_result"
    }
   ],
   "source": [
    "p3=final[['product_id','product_category_name','Qty']].groupby(by=['product_id','product_category_name']).sum().\\\n",
    "sort_values(by='Qty',ascending=False).reset_index()\n",
    "p3.drop_duplicates('product_category_name').head(2)"
   ]
  },
  {
   "cell_type": "markdown",
   "id": "18d17144",
   "metadata": {},
   "source": [
    "### g. Popular categories by state, month"
   ]
  },
  {
   "cell_type": "code",
   "execution_count": 80,
   "id": "bbe3640c",
   "metadata": {},
   "outputs": [
    {
     "data": {
      "text/html": [
       "<div>\n",
       "<style scoped>\n",
       "    .dataframe tbody tr th:only-of-type {\n",
       "        vertical-align: middle;\n",
       "    }\n",
       "\n",
       "    .dataframe tbody tr th {\n",
       "        vertical-align: top;\n",
       "    }\n",
       "\n",
       "    .dataframe thead th {\n",
       "        text-align: right;\n",
       "    }\n",
       "</style>\n",
       "<table border=\"1\" class=\"dataframe\">\n",
       "  <thead>\n",
       "    <tr style=\"text-align: right;\">\n",
       "      <th></th>\n",
       "      <th>geolocation_state</th>\n",
       "      <th>product_category_name</th>\n",
       "      <th>count</th>\n",
       "    </tr>\n",
       "  </thead>\n",
       "  <tbody>\n",
       "    <tr>\n",
       "      <th>0</th>\n",
       "      <td>Andhra Pradesh</td>\n",
       "      <td>Health_Beauty</td>\n",
       "      <td>7654</td>\n",
       "    </tr>\n",
       "    <tr>\n",
       "      <th>1</th>\n",
       "      <td>Gujarat</td>\n",
       "      <td>Bed_Bath_Table</td>\n",
       "      <td>6535</td>\n",
       "    </tr>\n",
       "  </tbody>\n",
       "</table>\n",
       "</div>"
      ],
      "text/plain": [
       "  geolocation_state product_category_name  count\n",
       "0    Andhra Pradesh         Health_Beauty   7654\n",
       "1           Gujarat        Bed_Bath_Table   6535"
      ]
     },
     "execution_count": 80,
     "metadata": {},
     "output_type": "execute_result"
    }
   ],
   "source": [
    "popcatbystate=final.groupby(['geolocation_state','product_category_name']).product_category_name.count().rename('count').reset_index()\n",
    "popcatbystate.sort_values(by='count',ascending=False).drop_duplicates('geolocation_state').reset_index().drop(columns='index').head(2)"
   ]
  },
  {
   "cell_type": "code",
   "execution_count": 81,
   "id": "a1b05e5e",
   "metadata": {},
   "outputs": [
    {
     "data": {
      "text/html": [
       "<div>\n",
       "<style scoped>\n",
       "    .dataframe tbody tr th:only-of-type {\n",
       "        vertical-align: middle;\n",
       "    }\n",
       "\n",
       "    .dataframe tbody tr th {\n",
       "        vertical-align: top;\n",
       "    }\n",
       "\n",
       "    .dataframe thead th {\n",
       "        text-align: right;\n",
       "    }\n",
       "</style>\n",
       "<table border=\"1\" class=\"dataframe\">\n",
       "  <thead>\n",
       "    <tr style=\"text-align: right;\">\n",
       "      <th></th>\n",
       "      <th>year</th>\n",
       "      <th>month</th>\n",
       "      <th>product_category_name</th>\n",
       "      <th>count</th>\n",
       "    </tr>\n",
       "  </thead>\n",
       "  <tbody>\n",
       "    <tr>\n",
       "      <th>0</th>\n",
       "      <td>2016</td>\n",
       "      <td>10</td>\n",
       "      <td>Furniture_Decor</td>\n",
       "      <td>78</td>\n",
       "    </tr>\n",
       "    <tr>\n",
       "      <th>1</th>\n",
       "      <td>2016</td>\n",
       "      <td>12</td>\n",
       "      <td>Fashion_Bags_Accessories</td>\n",
       "      <td>1</td>\n",
       "    </tr>\n",
       "  </tbody>\n",
       "</table>\n",
       "</div>"
      ],
      "text/plain": [
       "   year month     product_category_name  count\n",
       "0  2016    10           Furniture_Decor     78\n",
       "1  2016    12  Fashion_Bags_Accessories      1"
      ]
     },
     "execution_count": 81,
     "metadata": {},
     "output_type": "execute_result"
    }
   ],
   "source": [
    "popcatbymonth=final.groupby(['year','month','product_category_name']).product_category_name.count().rename('count').reset_index()\n",
    "popcatbymonth.sort_values(by=['year','month','count'],ascending=[True,True,False]).drop_duplicates(['year','month']).reset_index().drop(columns='index').head(2)"
   ]
  },
  {
   "cell_type": "markdown",
   "id": "34412b99",
   "metadata": {},
   "source": [
    "### h. List top 10 most expensive products sorted by price\n"
   ]
  },
  {
   "cell_type": "code",
   "execution_count": 82,
   "id": "4022e6ce",
   "metadata": {},
   "outputs": [
    {
     "data": {
      "text/html": [
       "<div>\n",
       "<style scoped>\n",
       "    .dataframe tbody tr th:only-of-type {\n",
       "        vertical-align: middle;\n",
       "    }\n",
       "\n",
       "    .dataframe tbody tr th {\n",
       "        vertical-align: top;\n",
       "    }\n",
       "\n",
       "    .dataframe thead th {\n",
       "        text-align: right;\n",
       "    }\n",
       "</style>\n",
       "<table border=\"1\" class=\"dataframe\">\n",
       "  <thead>\n",
       "    <tr style=\"text-align: right;\">\n",
       "      <th></th>\n",
       "      <th>product_id</th>\n",
       "      <th>price</th>\n",
       "    </tr>\n",
       "  </thead>\n",
       "  <tbody>\n",
       "    <tr>\n",
       "      <th>0</th>\n",
       "      <td>489ae2aa008f021502940f251d4cce7f</td>\n",
       "      <td>6735.00</td>\n",
       "    </tr>\n",
       "    <tr>\n",
       "      <th>1</th>\n",
       "      <td>69c590f7ffc7bf8db97190b6cb6ed62e</td>\n",
       "      <td>6729.00</td>\n",
       "    </tr>\n",
       "    <tr>\n",
       "      <th>2</th>\n",
       "      <td>1bdf5e6731585cf01aa8169c7028d6ad</td>\n",
       "      <td>6499.00</td>\n",
       "    </tr>\n",
       "    <tr>\n",
       "      <th>3</th>\n",
       "      <td>a6492cc69376c469ab6f61d8f44de961</td>\n",
       "      <td>4799.00</td>\n",
       "    </tr>\n",
       "    <tr>\n",
       "      <th>4</th>\n",
       "      <td>c3ed642d592594bb648ff4a04cee2747</td>\n",
       "      <td>4690.00</td>\n",
       "    </tr>\n",
       "    <tr>\n",
       "      <th>5</th>\n",
       "      <td>259037a6a41845e455183f89c5035f18</td>\n",
       "      <td>4590.00</td>\n",
       "    </tr>\n",
       "    <tr>\n",
       "      <th>6</th>\n",
       "      <td>a1beef8f3992dbd4cd8726796aa69c53</td>\n",
       "      <td>4399.87</td>\n",
       "    </tr>\n",
       "    <tr>\n",
       "      <th>7</th>\n",
       "      <td>6cdf8fc1d741c76586d8b6b15e9eef30</td>\n",
       "      <td>4099.99</td>\n",
       "    </tr>\n",
       "    <tr>\n",
       "      <th>8</th>\n",
       "      <td>6902c1962dd19d540807d0ab8fade5c6</td>\n",
       "      <td>3999.90</td>\n",
       "    </tr>\n",
       "    <tr>\n",
       "      <th>9</th>\n",
       "      <td>4ca7b91a31637bd24fb8e559d5e015e4</td>\n",
       "      <td>3999.00</td>\n",
       "    </tr>\n",
       "  </tbody>\n",
       "</table>\n",
       "</div>"
      ],
      "text/plain": [
       "                         product_id    price\n",
       "0  489ae2aa008f021502940f251d4cce7f  6735.00\n",
       "1  69c590f7ffc7bf8db97190b6cb6ed62e  6729.00\n",
       "2  1bdf5e6731585cf01aa8169c7028d6ad  6499.00\n",
       "3  a6492cc69376c469ab6f61d8f44de961  4799.00\n",
       "4  c3ed642d592594bb648ff4a04cee2747  4690.00\n",
       "5  259037a6a41845e455183f89c5035f18  4590.00\n",
       "6  a1beef8f3992dbd4cd8726796aa69c53  4399.87\n",
       "7  6cdf8fc1d741c76586d8b6b15e9eef30  4099.99\n",
       "8  6902c1962dd19d540807d0ab8fade5c6  3999.90\n",
       "9  4ca7b91a31637bd24fb8e559d5e015e4  3999.00"
      ]
     },
     "execution_count": 82,
     "metadata": {},
     "output_type": "execute_result"
    }
   ],
   "source": [
    "final[['product_id','price']].groupby(by='product_id').mean().sort_values(by='price',ascending=False).reset_index().head(10)"
   ]
  },
  {
   "cell_type": "markdown",
   "id": "9d670b7c",
   "metadata": {},
   "source": [
    "### 2. Performing Customers/sellers Segmentation\n",
    "### a. Divide the customers into groups based on the revenue generated"
   ]
  },
  {
   "cell_type": "code",
   "execution_count": 109,
   "id": "538477b9",
   "metadata": {},
   "outputs": [
    {
     "data": {
      "text/html": [
       "<div>\n",
       "<style scoped>\n",
       "    .dataframe tbody tr th:only-of-type {\n",
       "        vertical-align: middle;\n",
       "    }\n",
       "\n",
       "    .dataframe tbody tr th {\n",
       "        vertical-align: top;\n",
       "    }\n",
       "\n",
       "    .dataframe thead th {\n",
       "        text-align: right;\n",
       "    }\n",
       "</style>\n",
       "<table border=\"1\" class=\"dataframe\">\n",
       "  <thead>\n",
       "    <tr style=\"text-align: right;\">\n",
       "      <th></th>\n",
       "      <th>review_id</th>\n",
       "      <th>order_id</th>\n",
       "      <th>review_score</th>\n",
       "      <th>review_creation_date</th>\n",
       "      <th>review_answer_timestamp</th>\n",
       "      <th>customer_id</th>\n",
       "      <th>order_status</th>\n",
       "      <th>order_purchase_timestamp</th>\n",
       "      <th>order_approved_at</th>\n",
       "      <th>order_delivered_carrier_date</th>\n",
       "      <th>...</th>\n",
       "      <th>geolocation_city</th>\n",
       "      <th>geolocation_state</th>\n",
       "      <th>Yr-Mo</th>\n",
       "      <th>count_orders</th>\n",
       "      <th>revenue</th>\n",
       "      <th>year</th>\n",
       "      <th>month</th>\n",
       "      <th>week</th>\n",
       "      <th>day</th>\n",
       "      <th>month_new</th>\n",
       "    </tr>\n",
       "  </thead>\n",
       "  <tbody>\n",
       "    <tr>\n",
       "      <th>0</th>\n",
       "      <td>7bc2406110b926393aa56f80a40eba40</td>\n",
       "      <td>73fc7af87114b39712e6da79b0a377eb</td>\n",
       "      <td>4</td>\n",
       "      <td>2018-01-18</td>\n",
       "      <td>2018-01-18 21:46:00</td>\n",
       "      <td>41dcb106f807e993532d446263290104</td>\n",
       "      <td>delivered</td>\n",
       "      <td>2018-01-11 15:30:00</td>\n",
       "      <td>2018-01-11 15:47:00</td>\n",
       "      <td>2018-01-12 21:57:00</td>\n",
       "      <td>...</td>\n",
       "      <td>Kandukur</td>\n",
       "      <td>Andhra Pradesh</td>\n",
       "      <td>2018-01</td>\n",
       "      <td>1</td>\n",
       "      <td>198.63</td>\n",
       "      <td>2018</td>\n",
       "      <td>01</td>\n",
       "      <td>4</td>\n",
       "      <td>11</td>\n",
       "      <td>01</td>\n",
       "    </tr>\n",
       "    <tr>\n",
       "      <th>1</th>\n",
       "      <td>7bc2406110b926393aa56f80a40eba40</td>\n",
       "      <td>73fc7af87114b39712e6da79b0a377eb</td>\n",
       "      <td>4</td>\n",
       "      <td>2018-01-18</td>\n",
       "      <td>2018-01-18 21:46:00</td>\n",
       "      <td>41dcb106f807e993532d446263290104</td>\n",
       "      <td>delivered</td>\n",
       "      <td>2018-01-11 15:30:00</td>\n",
       "      <td>2018-01-11 15:47:00</td>\n",
       "      <td>2018-01-12 21:57:00</td>\n",
       "      <td>...</td>\n",
       "      <td>Kandukur</td>\n",
       "      <td>Andhra Pradesh</td>\n",
       "      <td>2018-01</td>\n",
       "      <td>1</td>\n",
       "      <td>198.63</td>\n",
       "      <td>2018</td>\n",
       "      <td>01</td>\n",
       "      <td>4</td>\n",
       "      <td>11</td>\n",
       "      <td>01</td>\n",
       "    </tr>\n",
       "    <tr>\n",
       "      <th>2</th>\n",
       "      <td>80e641a11e56f04c1ad469d5645fdfde</td>\n",
       "      <td>a548910a1c6147796b98fdf73dbeba33</td>\n",
       "      <td>5</td>\n",
       "      <td>2018-03-10</td>\n",
       "      <td>2018-03-11 03:05:00</td>\n",
       "      <td>8a2e7ef9053dea531e4dc76bd6d853e6</td>\n",
       "      <td>delivered</td>\n",
       "      <td>2018-02-28 12:25:00</td>\n",
       "      <td>2018-02-28 12:48:00</td>\n",
       "      <td>2018-03-02 19:08:00</td>\n",
       "      <td>...</td>\n",
       "      <td>Bobbili</td>\n",
       "      <td>Andhra Pradesh</td>\n",
       "      <td>2018-03</td>\n",
       "      <td>1</td>\n",
       "      <td>88.09</td>\n",
       "      <td>2018</td>\n",
       "      <td>02</td>\n",
       "      <td>3</td>\n",
       "      <td>28</td>\n",
       "      <td>03</td>\n",
       "    </tr>\n",
       "    <tr>\n",
       "      <th>3</th>\n",
       "      <td>228ce5500dc1d8e020d8d1322874b6f0</td>\n",
       "      <td>f9e4b658b201a9f2ecdecbb34bed034b</td>\n",
       "      <td>5</td>\n",
       "      <td>2018-02-17</td>\n",
       "      <td>2018-02-18 14:36:00</td>\n",
       "      <td>e226dfed6544df5b7b87a48208690feb</td>\n",
       "      <td>delivered</td>\n",
       "      <td>2018-02-03 09:56:00</td>\n",
       "      <td>2018-02-03 10:33:00</td>\n",
       "      <td>2018-02-06 16:18:00</td>\n",
       "      <td>...</td>\n",
       "      <td>Dalurband</td>\n",
       "      <td>West Bengal</td>\n",
       "      <td>2018-02</td>\n",
       "      <td>1</td>\n",
       "      <td>194.12</td>\n",
       "      <td>2018</td>\n",
       "      <td>02</td>\n",
       "      <td>6</td>\n",
       "      <td>03</td>\n",
       "      <td>02</td>\n",
       "    </tr>\n",
       "    <tr>\n",
       "      <th>4</th>\n",
       "      <td>e64fb393e7b32834bb789ff8bb30750e</td>\n",
       "      <td>658677c97b385a9be170737859d3511b</td>\n",
       "      <td>5</td>\n",
       "      <td>2017-04-21</td>\n",
       "      <td>2017-04-21 22:02:00</td>\n",
       "      <td>de6dff97e5f1ba84a3cd9a3bc97df5f6</td>\n",
       "      <td>delivered</td>\n",
       "      <td>2017-04-09 17:41:00</td>\n",
       "      <td>2017-04-09 17:55:00</td>\n",
       "      <td>2017-04-10 14:24:00</td>\n",
       "      <td>...</td>\n",
       "      <td>Dalurband</td>\n",
       "      <td>West Bengal</td>\n",
       "      <td>2017-04</td>\n",
       "      <td>1</td>\n",
       "      <td>222.84</td>\n",
       "      <td>2017</td>\n",
       "      <td>04</td>\n",
       "      <td>0</td>\n",
       "      <td>09</td>\n",
       "      <td>04</td>\n",
       "    </tr>\n",
       "  </tbody>\n",
       "</table>\n",
       "<p>5 rows × 46 columns</p>\n",
       "</div>"
      ],
      "text/plain": [
       "                          review_id                          order_id  \\\n",
       "0  7bc2406110b926393aa56f80a40eba40  73fc7af87114b39712e6da79b0a377eb   \n",
       "1  7bc2406110b926393aa56f80a40eba40  73fc7af87114b39712e6da79b0a377eb   \n",
       "2  80e641a11e56f04c1ad469d5645fdfde  a548910a1c6147796b98fdf73dbeba33   \n",
       "3  228ce5500dc1d8e020d8d1322874b6f0  f9e4b658b201a9f2ecdecbb34bed034b   \n",
       "4  e64fb393e7b32834bb789ff8bb30750e  658677c97b385a9be170737859d3511b   \n",
       "\n",
       "   review_score review_creation_date review_answer_timestamp  \\\n",
       "0             4           2018-01-18     2018-01-18 21:46:00   \n",
       "1             4           2018-01-18     2018-01-18 21:46:00   \n",
       "2             5           2018-03-10     2018-03-11 03:05:00   \n",
       "3             5           2018-02-17     2018-02-18 14:36:00   \n",
       "4             5           2017-04-21     2017-04-21 22:02:00   \n",
       "\n",
       "                        customer_id order_status order_purchase_timestamp  \\\n",
       "0  41dcb106f807e993532d446263290104    delivered      2018-01-11 15:30:00   \n",
       "1  41dcb106f807e993532d446263290104    delivered      2018-01-11 15:30:00   \n",
       "2  8a2e7ef9053dea531e4dc76bd6d853e6    delivered      2018-02-28 12:25:00   \n",
       "3  e226dfed6544df5b7b87a48208690feb    delivered      2018-02-03 09:56:00   \n",
       "4  de6dff97e5f1ba84a3cd9a3bc97df5f6    delivered      2017-04-09 17:41:00   \n",
       "\n",
       "    order_approved_at order_delivered_carrier_date  ... geolocation_city  \\\n",
       "0 2018-01-11 15:47:00          2018-01-12 21:57:00  ...         Kandukur   \n",
       "1 2018-01-11 15:47:00          2018-01-12 21:57:00  ...         Kandukur   \n",
       "2 2018-02-28 12:48:00          2018-03-02 19:08:00  ...          Bobbili   \n",
       "3 2018-02-03 10:33:00          2018-02-06 16:18:00  ...        Dalurband   \n",
       "4 2017-04-09 17:55:00          2017-04-10 14:24:00  ...        Dalurband   \n",
       "\n",
       "  geolocation_state    Yr-Mo count_orders  revenue  year  month week day  \\\n",
       "0    Andhra Pradesh  2018-01            1   198.63  2018     01    4  11   \n",
       "1    Andhra Pradesh  2018-01            1   198.63  2018     01    4  11   \n",
       "2    Andhra Pradesh  2018-03            1    88.09  2018     02    3  28   \n",
       "3       West Bengal  2018-02            1   194.12  2018     02    6  03   \n",
       "4       West Bengal  2017-04            1   222.84  2017     04    0  09   \n",
       "\n",
       "  month_new  \n",
       "0        01  \n",
       "1        01  \n",
       "2        03  \n",
       "3        02  \n",
       "4        04  \n",
       "\n",
       "[5 rows x 46 columns]"
      ]
     },
     "execution_count": 109,
     "metadata": {},
     "output_type": "execute_result"
    }
   ],
   "source": [
    "final.head()"
   ]
  },
  {
   "cell_type": "code",
   "execution_count": 84,
   "id": "f696ab8f",
   "metadata": {},
   "outputs": [],
   "source": [
    "cust_grp = final.groupby('customer_id')[['payment_value']].sum().reset_index().rename(columns={'payment_value':'Revenue'})"
   ]
  },
  {
   "cell_type": "code",
   "execution_count": 111,
   "id": "3c768ac8",
   "metadata": {},
   "outputs": [
    {
     "data": {
      "text/html": [
       "<div>\n",
       "<style scoped>\n",
       "    .dataframe tbody tr th:only-of-type {\n",
       "        vertical-align: middle;\n",
       "    }\n",
       "\n",
       "    .dataframe tbody tr th {\n",
       "        vertical-align: top;\n",
       "    }\n",
       "\n",
       "    .dataframe thead th {\n",
       "        text-align: right;\n",
       "    }\n",
       "</style>\n",
       "<table border=\"1\" class=\"dataframe\">\n",
       "  <thead>\n",
       "    <tr style=\"text-align: right;\">\n",
       "      <th></th>\n",
       "      <th>customer_id</th>\n",
       "      <th>Revenue</th>\n",
       "      <th>decile_grp</th>\n",
       "    </tr>\n",
       "  </thead>\n",
       "  <tbody>\n",
       "    <tr>\n",
       "      <th>0</th>\n",
       "      <td>00012a2ce6f8dcda20d059ce98491703</td>\n",
       "      <td>114.74</td>\n",
       "      <td>low</td>\n",
       "    </tr>\n",
       "    <tr>\n",
       "      <th>1</th>\n",
       "      <td>000161a058600d5901f007fab4c27140</td>\n",
       "      <td>67.41</td>\n",
       "      <td>low</td>\n",
       "    </tr>\n",
       "    <tr>\n",
       "      <th>2</th>\n",
       "      <td>0001fd6190edaaf884bcaf3d49edf079</td>\n",
       "      <td>195.42</td>\n",
       "      <td>low</td>\n",
       "    </tr>\n",
       "    <tr>\n",
       "      <th>3</th>\n",
       "      <td>0002414f95344307404f0ace7a26f1d5</td>\n",
       "      <td>179.35</td>\n",
       "      <td>low</td>\n",
       "    </tr>\n",
       "    <tr>\n",
       "      <th>4</th>\n",
       "      <td>000379cdec625522490c315e70c7a9fb</td>\n",
       "      <td>107.01</td>\n",
       "      <td>low</td>\n",
       "    </tr>\n",
       "    <tr>\n",
       "      <th>...</th>\n",
       "      <td>...</td>\n",
       "      <td>...</td>\n",
       "      <td>...</td>\n",
       "    </tr>\n",
       "    <tr>\n",
       "      <th>93569</th>\n",
       "      <td>fffcb937e9dd47a13f05ecb8290f4d3e</td>\n",
       "      <td>91.91</td>\n",
       "      <td>low</td>\n",
       "    </tr>\n",
       "    <tr>\n",
       "      <th>93570</th>\n",
       "      <td>fffecc9f79fd8c764f843e9951b11341</td>\n",
       "      <td>81.36</td>\n",
       "      <td>low</td>\n",
       "    </tr>\n",
       "    <tr>\n",
       "      <th>93571</th>\n",
       "      <td>fffeda5b6d849fbd39689bb92087f431</td>\n",
       "      <td>63.13</td>\n",
       "      <td>low</td>\n",
       "    </tr>\n",
       "    <tr>\n",
       "      <th>93572</th>\n",
       "      <td>ffff42319e9b2d713724ae527742af25</td>\n",
       "      <td>214.13</td>\n",
       "      <td>low</td>\n",
       "    </tr>\n",
       "    <tr>\n",
       "      <th>93573</th>\n",
       "      <td>ffffa3172527f765de70084a7e53aae8</td>\n",
       "      <td>91.00</td>\n",
       "      <td>low</td>\n",
       "    </tr>\n",
       "  </tbody>\n",
       "</table>\n",
       "<p>93574 rows × 3 columns</p>\n",
       "</div>"
      ],
      "text/plain": [
       "                            customer_id  Revenue decile_grp\n",
       "0      00012a2ce6f8dcda20d059ce98491703   114.74        low\n",
       "1      000161a058600d5901f007fab4c27140    67.41        low\n",
       "2      0001fd6190edaaf884bcaf3d49edf079   195.42        low\n",
       "3      0002414f95344307404f0ace7a26f1d5   179.35        low\n",
       "4      000379cdec625522490c315e70c7a9fb   107.01        low\n",
       "...                                 ...      ...        ...\n",
       "93569  fffcb937e9dd47a13f05ecb8290f4d3e    91.91        low\n",
       "93570  fffecc9f79fd8c764f843e9951b11341    81.36        low\n",
       "93571  fffeda5b6d849fbd39689bb92087f431    63.13        low\n",
       "93572  ffff42319e9b2d713724ae527742af25   214.13        low\n",
       "93573  ffffa3172527f765de70084a7e53aae8    91.00        low\n",
       "\n",
       "[93574 rows x 3 columns]"
      ]
     },
     "execution_count": 111,
     "metadata": {},
     "output_type": "execute_result"
    }
   ],
   "source": [
    "cust_grp['decile_grp']=pd.cut(cust_grp.Revenue,bins=3,labels=['low','medium','high'])\n",
    "cust_grp"
   ]
  },
  {
   "cell_type": "code",
   "execution_count": 119,
   "id": "3c0c47c8",
   "metadata": {},
   "outputs": [],
   "source": [
    "customer_revenue = final.groupby('customer_id')['payment_value'].sum().reset_index()\n",
    "customer_revenue.columns = ['customer_id', 'total_revenue_customer']\n",
    "# Divide Customers into Revenue Groups\n",
    "customer_revenue['revenue_group'] = pd.cut(customer_revenue['total_revenue_customer'], bins=3, labels=['low', 'medium', 'high'])\n",
    "# Perform Decile Analysis on Customer Revenue\n",
    "customer_revenue['decile_rank'] = pd.qcut(customer_revenue['total_revenue_customer'], q=10, labels=False)+1"
   ]
  },
  {
   "cell_type": "markdown",
   "id": "6e8a4e0a",
   "metadata": {},
   "source": [
    "### b. Divide the sellers into groups based on the revenue generated "
   ]
  },
  {
   "cell_type": "code",
   "execution_count": 120,
   "id": "def64694",
   "metadata": {},
   "outputs": [],
   "source": [
    "sell_grp = final.groupby('seller_id')[['payment_value']].sum().reset_index().rename(columns={'payment_value':'Revenue'})"
   ]
  },
  {
   "cell_type": "code",
   "execution_count": 121,
   "id": "926c89fc",
   "metadata": {},
   "outputs": [],
   "source": [
    "sell_grp['decile_grp']=pd.cut(sell_grp.Revenue,bins=3,labels=['low','medium','high'])"
   ]
  },
  {
   "cell_type": "code",
   "execution_count": 122,
   "id": "5f4665cc",
   "metadata": {},
   "outputs": [],
   "source": [
    "customer_revenue = final.groupby('seller_id')['payment_value'].sum().reset_index()\n",
    "customer_revenue.columns = ['seller_id', 'total_revenue_customer']\n",
    "# Divide Customers into Revenue Groups\n",
    "customer_revenue['revenue_group'] = pd.cut(customer_revenue['total_revenue_customer'], bins=3, labels=['low', 'medium', 'high'])\n",
    "# Perform Decile Analysis on Customer Revenue\n",
    "customer_revenue['decile_rank'] = pd.qcut(customer_revenue['total_revenue_customer'], q=10, labels=False)+1"
   ]
  },
  {
   "cell_type": "markdown",
   "id": "89e61cec",
   "metadata": {},
   "source": [
    "### 3. Cross-Selling (Which products are selling together)\n",
    "Hint: We need to find which of the top 10 combinations of products are selling together in each transaction. (combination of 2 or 3 buying together)"
   ]
  },
  {
   "cell_type": "code",
   "execution_count": 90,
   "id": "352506e2",
   "metadata": {},
   "outputs": [],
   "source": [
    "# Cross Selling in terms of same Order_ID ,buying 2or 2product_id buying at Same time"
   ]
  },
  {
   "cell_type": "code",
   "execution_count": 91,
   "id": "0b4ec857",
   "metadata": {},
   "outputs": [],
   "source": [
    "#cross_sell =final.loc[: , ['order_id','order_purchase_timestamp','product_id','product_category_name']]\n",
    "#cross_sell = cross_sell[cross_sell.duplicated(subset = ['order_id','order_purchase_timestamp'], keep = False)]"
   ]
  },
  {
   "cell_type": "code",
   "execution_count": 92,
   "id": "044c3b83",
   "metadata": {},
   "outputs": [],
   "source": [
    "#cross_sell_1 = cross_sell.drop_duplicates(subset=['order_id','order_purchase_timestamp'], keep='first', ignore_index=True)"
   ]
  },
  {
   "cell_type": "code",
   "execution_count": 93,
   "id": "bc855c98",
   "metadata": {},
   "outputs": [],
   "source": [
    "#cross_sell_2 = cross_sell.drop_duplicates(subset=['order_id','order_purchase_timestamp'], keep='last', ignore_index=True)"
   ]
  },
  {
   "cell_type": "code",
   "execution_count": 94,
   "id": "2f83f5cc",
   "metadata": {},
   "outputs": [],
   "source": [
    "#cross_sell_final = pd.merge(cross_sell_1, cross_sell_2, on = ['order_id','order_purchase_timestamp'], how = 'inner')"
   ]
  },
  {
   "cell_type": "code",
   "execution_count": 129,
   "id": "16de2b66",
   "metadata": {},
   "outputs": [
    {
     "data": {
      "text/plain": [
       "[(('Bed_Bath_Table', 'Bed_Bath_Table', 'Bed_Bath_Table'), 22279),\n",
       " (('Office_Furniture', 'Office_Furniture', 'Office_Furniture'), 9599),\n",
       " (('Bed_Bath_Table', 'Bed_Bath_Table', 'Housewares'), 6392),\n",
       " (('Bed_Bath_Table', 'Housewares', 'Bed_Bath_Table'), 6164),\n",
       " (('Bed_Bath_Table', 'Bed_Bath_Table'), 5893),\n",
       " (('Housewares', 'Bed_Bath_Table', 'Bed_Bath_Table'), 5532),\n",
       " (('Furniture_Decor', 'Furniture_Decor', 'Furniture_Decor'), 5234),\n",
       " (('Housewares', 'Housewares', 'Housewares'), 4953),\n",
       " (('Computers_Accessories', 'Computers_Accessories', 'Computers_Accessories'),\n",
       "  4866),\n",
       " (('Furniture_Decor', 'Furniture_Decor'), 4369)]"
      ]
     },
     "execution_count": 129,
     "metadata": {},
     "output_type": "execute_result"
    }
   ],
   "source": [
    "from itertools import combinations\n",
    "from collections import Counter\n",
    "order_products = final.groupby('order_id')['product_category_name'].apply(list).reset_index()\n",
    "combinations_list = []\n",
    "for products in order_products['product_category_name']:\n",
    "    if len(products) >= 2:\n",
    "        for r in range(2, min(4, len(products) + 1)):\n",
    "            combinations_list.extend(combinations(products, r))\n",
    "combination_counts = Counter(combinations_list)\n",
    "top_combinations = combination_counts.most_common(10)\n",
    "top_combinations\n",
    "\n"
   ]
  },
  {
   "cell_type": "markdown",
   "id": "3e003d71",
   "metadata": {},
   "source": [
    "### 4. Payment Behaviour\n",
    "### a. How customers are paying?\n",
    "### b. Which payment channels are used by most customers?"
   ]
  },
  {
   "cell_type": "code",
   "execution_count": 130,
   "id": "1a57900a",
   "metadata": {},
   "outputs": [
    {
     "data": {
      "text/html": [
       "<div>\n",
       "<style scoped>\n",
       "    .dataframe tbody tr th:only-of-type {\n",
       "        vertical-align: middle;\n",
       "    }\n",
       "\n",
       "    .dataframe tbody tr th {\n",
       "        vertical-align: top;\n",
       "    }\n",
       "\n",
       "    .dataframe thead th {\n",
       "        text-align: right;\n",
       "    }\n",
       "</style>\n",
       "<table border=\"1\" class=\"dataframe\">\n",
       "  <thead>\n",
       "    <tr style=\"text-align: right;\">\n",
       "      <th></th>\n",
       "      <th>payment_installments</th>\n",
       "      <th>count_cust</th>\n",
       "    </tr>\n",
       "  </thead>\n",
       "  <tbody>\n",
       "    <tr>\n",
       "      <th>0</th>\n",
       "      <td>0</td>\n",
       "      <td>3</td>\n",
       "    </tr>\n",
       "    <tr>\n",
       "      <th>1</th>\n",
       "      <td>1</td>\n",
       "      <td>55982</td>\n",
       "    </tr>\n",
       "    <tr>\n",
       "      <th>2</th>\n",
       "      <td>2</td>\n",
       "      <td>13079</td>\n",
       "    </tr>\n",
       "    <tr>\n",
       "      <th>3</th>\n",
       "      <td>3</td>\n",
       "      <td>11230</td>\n",
       "    </tr>\n",
       "    <tr>\n",
       "      <th>4</th>\n",
       "      <td>4</td>\n",
       "      <td>7631</td>\n",
       "    </tr>\n",
       "  </tbody>\n",
       "</table>\n",
       "</div>"
      ],
      "text/plain": [
       "   payment_installments  count_cust\n",
       "0                     0           3\n",
       "1                     1       55982\n",
       "2                     2       13079\n",
       "3                     3       11230\n",
       "4                     4        7631"
      ]
     },
     "execution_count": 130,
     "metadata": {},
     "output_type": "execute_result"
    }
   ],
   "source": [
    "a=final[['customer_id','payment_installments']].groupby(by='payment_installments').count().sort_values(by='payment_installments',ascending=True).\\\n",
    "reset_index().rename(columns={'customer_id':'count_cust'}).head()\n",
    "a"
   ]
  },
  {
   "cell_type": "code",
   "execution_count": 131,
   "id": "972e724c",
   "metadata": {},
   "outputs": [],
   "source": [
    "b = final.groupby('payment_type')[['payment_type']].count().rename(columns={'payment_type':'No_of_transaction'}).sort_values(by = 'No_of_transaction',ascending = False).reset_index()"
   ]
  },
  {
   "cell_type": "code",
   "execution_count": 132,
   "id": "f51803cf",
   "metadata": {},
   "outputs": [
    {
     "data": {
      "text/html": [
       "<div>\n",
       "<style scoped>\n",
       "    .dataframe tbody tr th:only-of-type {\n",
       "        vertical-align: middle;\n",
       "    }\n",
       "\n",
       "    .dataframe tbody tr th {\n",
       "        vertical-align: top;\n",
       "    }\n",
       "\n",
       "    .dataframe thead th {\n",
       "        text-align: right;\n",
       "    }\n",
       "</style>\n",
       "<table border=\"1\" class=\"dataframe\">\n",
       "  <thead>\n",
       "    <tr style=\"text-align: right;\">\n",
       "      <th></th>\n",
       "      <th>payment_type</th>\n",
       "      <th>No_of_transaction</th>\n",
       "    </tr>\n",
       "  </thead>\n",
       "  <tbody>\n",
       "    <tr>\n",
       "      <th>0</th>\n",
       "      <td>credit_card</td>\n",
       "      <td>82812</td>\n",
       "    </tr>\n",
       "    <tr>\n",
       "      <th>1</th>\n",
       "      <td>UPI</td>\n",
       "      <td>21825</td>\n",
       "    </tr>\n",
       "    <tr>\n",
       "      <th>2</th>\n",
       "      <td>voucher</td>\n",
       "      <td>5997</td>\n",
       "    </tr>\n",
       "    <tr>\n",
       "      <th>3</th>\n",
       "      <td>debit_card</td>\n",
       "      <td>1600</td>\n",
       "    </tr>\n",
       "  </tbody>\n",
       "</table>\n",
       "</div>"
      ],
      "text/plain": [
       "  payment_type  No_of_transaction\n",
       "0  credit_card              82812\n",
       "1          UPI              21825\n",
       "2      voucher               5997\n",
       "3   debit_card               1600"
      ]
     },
     "execution_count": 132,
     "metadata": {},
     "output_type": "execute_result"
    }
   ],
   "source": [
    "b"
   ]
  },
  {
   "cell_type": "markdown",
   "id": "2ee91e2b",
   "metadata": {},
   "source": [
    "### 5. Customer satisfaction towards category & product\n",
    "### a. Which categories (top 10) are maximum rated & minimum rated?\n",
    "### b. Which products (top10) are maximum rated & minimum rated?\n",
    "### c. Average rating by location, seller, product, category, month etc."
   ]
  },
  {
   "cell_type": "code",
   "execution_count": 133,
   "id": "48b20d03",
   "metadata": {},
   "outputs": [
    {
     "name": "stdout",
     "output_type": "stream",
     "text": [
      "Product Categories with Minimum Avg Rating\n"
     ]
    },
    {
     "data": {
      "text/html": [
       "<div>\n",
       "<style scoped>\n",
       "    .dataframe tbody tr th:only-of-type {\n",
       "        vertical-align: middle;\n",
       "    }\n",
       "\n",
       "    .dataframe tbody tr th {\n",
       "        vertical-align: top;\n",
       "    }\n",
       "\n",
       "    .dataframe thead th {\n",
       "        text-align: right;\n",
       "    }\n",
       "</style>\n",
       "<table border=\"1\" class=\"dataframe\">\n",
       "  <thead>\n",
       "    <tr style=\"text-align: right;\">\n",
       "      <th></th>\n",
       "      <th>product_category_name</th>\n",
       "      <th>review_score</th>\n",
       "    </tr>\n",
       "  </thead>\n",
       "  <tbody>\n",
       "    <tr>\n",
       "      <th>61</th>\n",
       "      <td>Security_And_Services</td>\n",
       "      <td>2.500000</td>\n",
       "    </tr>\n",
       "    <tr>\n",
       "      <th>23</th>\n",
       "      <td>Diapers_And_Hygiene</td>\n",
       "      <td>3.378378</td>\n",
       "    </tr>\n",
       "    <tr>\n",
       "      <th>46</th>\n",
       "      <td>Home_Comfort_2</td>\n",
       "      <td>3.387097</td>\n",
       "    </tr>\n",
       "    <tr>\n",
       "      <th>57</th>\n",
       "      <td>Office_Furniture</td>\n",
       "      <td>3.484230</td>\n",
       "    </tr>\n",
       "    <tr>\n",
       "      <th>30</th>\n",
       "      <td>Fashion_Male_Clothing</td>\n",
       "      <td>3.630435</td>\n",
       "    </tr>\n",
       "    <tr>\n",
       "      <th>34</th>\n",
       "      <td>Fixed_Telephony</td>\n",
       "      <td>3.739464</td>\n",
       "    </tr>\n",
       "    <tr>\n",
       "      <th>52</th>\n",
       "      <td>La_Cuisine</td>\n",
       "      <td>3.785714</td>\n",
       "    </tr>\n",
       "    <tr>\n",
       "      <th>4</th>\n",
       "      <td>Audio</td>\n",
       "      <td>3.828496</td>\n",
       "    </tr>\n",
       "    <tr>\n",
       "      <th>40</th>\n",
       "      <td>Furniture_Living_Room</td>\n",
       "      <td>3.862069</td>\n",
       "    </tr>\n",
       "    <tr>\n",
       "      <th>41</th>\n",
       "      <td>Furniture_Mattress_And_Upholstery</td>\n",
       "      <td>3.875000</td>\n",
       "    </tr>\n",
       "  </tbody>\n",
       "</table>\n",
       "</div>"
      ],
      "text/plain": [
       "                product_category_name  review_score\n",
       "61              Security_And_Services      2.500000\n",
       "23                Diapers_And_Hygiene      3.378378\n",
       "46                     Home_Comfort_2      3.387097\n",
       "57                   Office_Furniture      3.484230\n",
       "30              Fashion_Male_Clothing      3.630435\n",
       "34                    Fixed_Telephony      3.739464\n",
       "52                         La_Cuisine      3.785714\n",
       "4                               Audio      3.828496\n",
       "40              Furniture_Living_Room      3.862069\n",
       "41  Furniture_Mattress_And_Upholstery      3.875000"
      ]
     },
     "execution_count": 133,
     "metadata": {},
     "output_type": "execute_result"
    }
   ],
   "source": [
    "cat_rev = final.groupby('product_category_name')[['review_score']].mean().reset_index().sort_values(by='review_score')\n",
    "print(\"Product Categories with Minimum Avg Rating\")\n",
    "cat_rev.head(10)"
   ]
  },
  {
   "cell_type": "code",
   "execution_count": 134,
   "id": "a9649de1",
   "metadata": {},
   "outputs": [
    {
     "name": "stdout",
     "output_type": "stream",
     "text": [
      "Product Categories with Maximum Avg Rating\n"
     ]
    },
    {
     "data": {
      "text/html": [
       "<div>\n",
       "<style scoped>\n",
       "    .dataframe tbody tr th:only-of-type {\n",
       "        vertical-align: middle;\n",
       "    }\n",
       "\n",
       "    .dataframe tbody tr th {\n",
       "        vertical-align: top;\n",
       "    }\n",
       "\n",
       "    .dataframe thead th {\n",
       "        text-align: right;\n",
       "    }\n",
       "</style>\n",
       "<table border=\"1\" class=\"dataframe\">\n",
       "  <thead>\n",
       "    <tr style=\"text-align: right;\">\n",
       "      <th></th>\n",
       "      <th>product_category_name</th>\n",
       "      <th>review_score</th>\n",
       "    </tr>\n",
       "  </thead>\n",
       "  <tbody>\n",
       "    <tr>\n",
       "      <th>29</th>\n",
       "      <td>Fashion_Childrens_Clothes</td>\n",
       "      <td>5.000000</td>\n",
       "    </tr>\n",
       "    <tr>\n",
       "      <th>11</th>\n",
       "      <td>Cds_Dvds_Musicals</td>\n",
       "      <td>4.642857</td>\n",
       "    </tr>\n",
       "    <tr>\n",
       "      <th>9</th>\n",
       "      <td>Books_Imported</td>\n",
       "      <td>4.525424</td>\n",
       "    </tr>\n",
       "    <tr>\n",
       "      <th>8</th>\n",
       "      <td>Books_General_Interest</td>\n",
       "      <td>4.494505</td>\n",
       "    </tr>\n",
       "    <tr>\n",
       "      <th>64</th>\n",
       "      <td>Small_Appliances_Home_Oven_And_Coffee</td>\n",
       "      <td>4.453333</td>\n",
       "    </tr>\n",
       "    <tr>\n",
       "      <th>10</th>\n",
       "      <td>Books_Technical</td>\n",
       "      <td>4.388060</td>\n",
       "    </tr>\n",
       "    <tr>\n",
       "      <th>37</th>\n",
       "      <td>Food_Drink</td>\n",
       "      <td>4.387900</td>\n",
       "    </tr>\n",
       "    <tr>\n",
       "      <th>22</th>\n",
       "      <td>Costruction_Tools_Tools</td>\n",
       "      <td>4.333333</td>\n",
       "    </tr>\n",
       "    <tr>\n",
       "      <th>32</th>\n",
       "      <td>Fashion_Sport</td>\n",
       "      <td>4.321429</td>\n",
       "    </tr>\n",
       "    <tr>\n",
       "      <th>53</th>\n",
       "      <td>Luggage_Accessories</td>\n",
       "      <td>4.317747</td>\n",
       "    </tr>\n",
       "  </tbody>\n",
       "</table>\n",
       "</div>"
      ],
      "text/plain": [
       "                    product_category_name  review_score\n",
       "29              Fashion_Childrens_Clothes      5.000000\n",
       "11                      Cds_Dvds_Musicals      4.642857\n",
       "9                          Books_Imported      4.525424\n",
       "8                  Books_General_Interest      4.494505\n",
       "64  Small_Appliances_Home_Oven_And_Coffee      4.453333\n",
       "10                        Books_Technical      4.388060\n",
       "37                             Food_Drink      4.387900\n",
       "22                Costruction_Tools_Tools      4.333333\n",
       "32                          Fashion_Sport      4.321429\n",
       "53                    Luggage_Accessories      4.317747"
      ]
     },
     "execution_count": 134,
     "metadata": {},
     "output_type": "execute_result"
    }
   ],
   "source": [
    "cat_rev = final.groupby('product_category_name')[['review_score']].mean().reset_index().sort_values(by='review_score',ascending=False)\n",
    "print(\"Product Categories with Maximum Avg Rating\")\n",
    "cat_rev.head(10)"
   ]
  },
  {
   "cell_type": "markdown",
   "id": "9c09bf23",
   "metadata": {},
   "source": [
    "### b. Which products (top10) are maximum rated & minimum rated?"
   ]
  },
  {
   "cell_type": "code",
   "execution_count": 135,
   "id": "edb57f25",
   "metadata": {},
   "outputs": [
    {
     "name": "stdout",
     "output_type": "stream",
     "text": [
      "Minimum Rated 10 products\n"
     ]
    },
    {
     "data": {
      "text/html": [
       "<div>\n",
       "<style scoped>\n",
       "    .dataframe tbody tr th:only-of-type {\n",
       "        vertical-align: middle;\n",
       "    }\n",
       "\n",
       "    .dataframe tbody tr th {\n",
       "        vertical-align: top;\n",
       "    }\n",
       "\n",
       "    .dataframe thead th {\n",
       "        text-align: right;\n",
       "    }\n",
       "</style>\n",
       "<table border=\"1\" class=\"dataframe\">\n",
       "  <thead>\n",
       "    <tr style=\"text-align: right;\">\n",
       "      <th></th>\n",
       "      <th>product_id</th>\n",
       "      <th>review_score</th>\n",
       "    </tr>\n",
       "  </thead>\n",
       "  <tbody>\n",
       "    <tr>\n",
       "      <th>26405</th>\n",
       "      <td>d9933dd922fa78131c80a6987a707f9a</td>\n",
       "      <td>1.0</td>\n",
       "    </tr>\n",
       "    <tr>\n",
       "      <th>7510</th>\n",
       "      <td>3d16ff6bb87ceb3db735862f069c3caf</td>\n",
       "      <td>1.0</td>\n",
       "    </tr>\n",
       "    <tr>\n",
       "      <th>18742</th>\n",
       "      <td>9ad035c24a9a92391b9e4be7d07879fd</td>\n",
       "      <td>1.0</td>\n",
       "    </tr>\n",
       "    <tr>\n",
       "      <th>18729</th>\n",
       "      <td>9aac694a7dea5e7fe19c5c65ecd0058e</td>\n",
       "      <td>1.0</td>\n",
       "    </tr>\n",
       "    <tr>\n",
       "      <th>13769</th>\n",
       "      <td>70d1bd3a042448105a71d0b41ecbc96b</td>\n",
       "      <td>1.0</td>\n",
       "    </tr>\n",
       "    <tr>\n",
       "      <th>29818</th>\n",
       "      <td>f605c14485b0c4f34011ee7658887ef1</td>\n",
       "      <td>1.0</td>\n",
       "    </tr>\n",
       "    <tr>\n",
       "      <th>29817</th>\n",
       "      <td>f5f8b37f379db82195a477981fdd5ccd</td>\n",
       "      <td>1.0</td>\n",
       "    </tr>\n",
       "    <tr>\n",
       "      <th>13771</th>\n",
       "      <td>70d581e7cfecc88d345ee9c197d1fbc8</td>\n",
       "      <td>1.0</td>\n",
       "    </tr>\n",
       "    <tr>\n",
       "      <th>27767</th>\n",
       "      <td>e527af42fb2b8d253e47fdb6e7af7db9</td>\n",
       "      <td>1.0</td>\n",
       "    </tr>\n",
       "    <tr>\n",
       "      <th>18723</th>\n",
       "      <td>9a9a9db03d984059e843b4f3cb5688d0</td>\n",
       "      <td>1.0</td>\n",
       "    </tr>\n",
       "  </tbody>\n",
       "</table>\n",
       "</div>"
      ],
      "text/plain": [
       "                             product_id  review_score\n",
       "26405  d9933dd922fa78131c80a6987a707f9a           1.0\n",
       "7510   3d16ff6bb87ceb3db735862f069c3caf           1.0\n",
       "18742  9ad035c24a9a92391b9e4be7d07879fd           1.0\n",
       "18729  9aac694a7dea5e7fe19c5c65ecd0058e           1.0\n",
       "13769  70d1bd3a042448105a71d0b41ecbc96b           1.0\n",
       "29818  f605c14485b0c4f34011ee7658887ef1           1.0\n",
       "29817  f5f8b37f379db82195a477981fdd5ccd           1.0\n",
       "13771  70d581e7cfecc88d345ee9c197d1fbc8           1.0\n",
       "27767  e527af42fb2b8d253e47fdb6e7af7db9           1.0\n",
       "18723  9a9a9db03d984059e843b4f3cb5688d0           1.0"
      ]
     },
     "execution_count": 135,
     "metadata": {},
     "output_type": "execute_result"
    }
   ],
   "source": [
    "print('Minimum Rated 10 products')\n",
    "final.groupby('product_id')[['review_score']].mean().reset_index().sort_values(by= 'review_score').head(10)"
   ]
  },
  {
   "cell_type": "code",
   "execution_count": 136,
   "id": "717ff13f",
   "metadata": {},
   "outputs": [
    {
     "name": "stdout",
     "output_type": "stream",
     "text": [
      "Maximum Rated 10 products\n"
     ]
    },
    {
     "data": {
      "text/html": [
       "<div>\n",
       "<style scoped>\n",
       "    .dataframe tbody tr th:only-of-type {\n",
       "        vertical-align: middle;\n",
       "    }\n",
       "\n",
       "    .dataframe tbody tr th {\n",
       "        vertical-align: top;\n",
       "    }\n",
       "\n",
       "    .dataframe thead th {\n",
       "        text-align: right;\n",
       "    }\n",
       "</style>\n",
       "<table border=\"1\" class=\"dataframe\">\n",
       "  <thead>\n",
       "    <tr style=\"text-align: right;\">\n",
       "      <th></th>\n",
       "      <th>product_id</th>\n",
       "      <th>review_score</th>\n",
       "    </tr>\n",
       "  </thead>\n",
       "  <tbody>\n",
       "    <tr>\n",
       "      <th>0</th>\n",
       "      <td>00066f42aeeb9f3007548bb9d3f33c38</td>\n",
       "      <td>5.0</td>\n",
       "    </tr>\n",
       "    <tr>\n",
       "      <th>16456</th>\n",
       "      <td>877e380ee3bca2827be3586e9d4b7c84</td>\n",
       "      <td>5.0</td>\n",
       "    </tr>\n",
       "    <tr>\n",
       "      <th>16511</th>\n",
       "      <td>87e6cf7eb3e4996b725323a1d704fb8b</td>\n",
       "      <td>5.0</td>\n",
       "    </tr>\n",
       "    <tr>\n",
       "      <th>16504</th>\n",
       "      <td>87d87bc896790e32575a4a78c8ccb983</td>\n",
       "      <td>5.0</td>\n",
       "    </tr>\n",
       "    <tr>\n",
       "      <th>16500</th>\n",
       "      <td>87d0c9b6b7e52840a7f3d9aa0efb0003</td>\n",
       "      <td>5.0</td>\n",
       "    </tr>\n",
       "    <tr>\n",
       "      <th>16495</th>\n",
       "      <td>87c8fb5d5bb43fd06e54c78f6fa45836</td>\n",
       "      <td>5.0</td>\n",
       "    </tr>\n",
       "    <tr>\n",
       "      <th>16493</th>\n",
       "      <td>87c070a9069fffd77616e3581d8d2ba1</td>\n",
       "      <td>5.0</td>\n",
       "    </tr>\n",
       "    <tr>\n",
       "      <th>16492</th>\n",
       "      <td>87bd1cd9f8c9d38c5a2428d5d2c5aecd</td>\n",
       "      <td>5.0</td>\n",
       "    </tr>\n",
       "    <tr>\n",
       "      <th>16488</th>\n",
       "      <td>87b489e8ad10cd2b4e631cc1af34ff00</td>\n",
       "      <td>5.0</td>\n",
       "    </tr>\n",
       "    <tr>\n",
       "      <th>16487</th>\n",
       "      <td>87b42927619008f877bfcdd5068e7edf</td>\n",
       "      <td>5.0</td>\n",
       "    </tr>\n",
       "  </tbody>\n",
       "</table>\n",
       "</div>"
      ],
      "text/plain": [
       "                             product_id  review_score\n",
       "0      00066f42aeeb9f3007548bb9d3f33c38           5.0\n",
       "16456  877e380ee3bca2827be3586e9d4b7c84           5.0\n",
       "16511  87e6cf7eb3e4996b725323a1d704fb8b           5.0\n",
       "16504  87d87bc896790e32575a4a78c8ccb983           5.0\n",
       "16500  87d0c9b6b7e52840a7f3d9aa0efb0003           5.0\n",
       "16495  87c8fb5d5bb43fd06e54c78f6fa45836           5.0\n",
       "16493  87c070a9069fffd77616e3581d8d2ba1           5.0\n",
       "16492  87bd1cd9f8c9d38c5a2428d5d2c5aecd           5.0\n",
       "16488  87b489e8ad10cd2b4e631cc1af34ff00           5.0\n",
       "16487  87b42927619008f877bfcdd5068e7edf           5.0"
      ]
     },
     "execution_count": 136,
     "metadata": {},
     "output_type": "execute_result"
    }
   ],
   "source": [
    "print('Maximum Rated 10 products')\n",
    "final.groupby('product_id')['review_score'].mean().reset_index().sort_values(by = 'review_score', ascending = False).head(10)"
   ]
  },
  {
   "cell_type": "markdown",
   "id": "75af2c2d",
   "metadata": {},
   "source": [
    "### c. Average rating by location, seller, product, category, month etc."
   ]
  },
  {
   "cell_type": "code",
   "execution_count": 137,
   "id": "e7717d50",
   "metadata": {},
   "outputs": [
    {
     "data": {
      "text/html": [
       "<div>\n",
       "<style scoped>\n",
       "    .dataframe tbody tr th:only-of-type {\n",
       "        vertical-align: middle;\n",
       "    }\n",
       "\n",
       "    .dataframe tbody tr th {\n",
       "        vertical-align: top;\n",
       "    }\n",
       "\n",
       "    .dataframe thead th {\n",
       "        text-align: right;\n",
       "    }\n",
       "</style>\n",
       "<table border=\"1\" class=\"dataframe\">\n",
       "  <thead>\n",
       "    <tr style=\"text-align: right;\">\n",
       "      <th></th>\n",
       "      <th>month_new</th>\n",
       "      <th>review_score</th>\n",
       "    </tr>\n",
       "  </thead>\n",
       "  <tbody>\n",
       "    <tr>\n",
       "      <th>0</th>\n",
       "      <td>01</td>\n",
       "      <td>4.021493</td>\n",
       "    </tr>\n",
       "    <tr>\n",
       "      <th>1</th>\n",
       "      <td>02</td>\n",
       "      <td>4.037991</td>\n",
       "    </tr>\n",
       "    <tr>\n",
       "      <th>2</th>\n",
       "      <td>03</td>\n",
       "      <td>3.784194</td>\n",
       "    </tr>\n",
       "    <tr>\n",
       "      <th>3</th>\n",
       "      <td>04</td>\n",
       "      <td>3.933001</td>\n",
       "    </tr>\n",
       "    <tr>\n",
       "      <th>4</th>\n",
       "      <td>05</td>\n",
       "      <td>4.143979</td>\n",
       "    </tr>\n",
       "  </tbody>\n",
       "</table>\n",
       "</div>"
      ],
      "text/plain": [
       "  month_new  review_score\n",
       "0        01      4.021493\n",
       "1        02      4.037991\n",
       "2        03      3.784194\n",
       "3        04      3.933001\n",
       "4        05      4.143979"
      ]
     },
     "execution_count": 137,
     "metadata": {},
     "output_type": "execute_result"
    }
   ],
   "source": [
    "final['month_new']= final.review_creation_date.dt.strftime(\"%m\")\n",
    "final.groupby('month_new')[['review_score']].mean().reset_index().head()"
   ]
  },
  {
   "cell_type": "code",
   "execution_count": 138,
   "id": "ffa7424c",
   "metadata": {},
   "outputs": [
    {
     "data": {
      "text/html": [
       "<div>\n",
       "<style scoped>\n",
       "    .dataframe tbody tr th:only-of-type {\n",
       "        vertical-align: middle;\n",
       "    }\n",
       "\n",
       "    .dataframe tbody tr th {\n",
       "        vertical-align: top;\n",
       "    }\n",
       "\n",
       "    .dataframe thead th {\n",
       "        text-align: right;\n",
       "    }\n",
       "</style>\n",
       "<table border=\"1\" class=\"dataframe\">\n",
       "  <thead>\n",
       "    <tr style=\"text-align: right;\">\n",
       "      <th></th>\n",
       "      <th>Yr-Mo</th>\n",
       "      <th>review_score</th>\n",
       "    </tr>\n",
       "  </thead>\n",
       "  <tbody>\n",
       "    <tr>\n",
       "      <th>0</th>\n",
       "      <td>2016-10</td>\n",
       "      <td>3.909449</td>\n",
       "    </tr>\n",
       "    <tr>\n",
       "      <th>1</th>\n",
       "      <td>2016-11</td>\n",
       "      <td>3.707317</td>\n",
       "    </tr>\n",
       "    <tr>\n",
       "      <th>2</th>\n",
       "      <td>2016-12</td>\n",
       "      <td>3.000000</td>\n",
       "    </tr>\n",
       "    <tr>\n",
       "      <th>3</th>\n",
       "      <td>2017-01</td>\n",
       "      <td>4.211765</td>\n",
       "    </tr>\n",
       "    <tr>\n",
       "      <th>4</th>\n",
       "      <td>2017-02</td>\n",
       "      <td>4.293275</td>\n",
       "    </tr>\n",
       "  </tbody>\n",
       "</table>\n",
       "</div>"
      ],
      "text/plain": [
       "     Yr-Mo  review_score\n",
       "0  2016-10      3.909449\n",
       "1  2016-11      3.707317\n",
       "2  2016-12      3.000000\n",
       "3  2017-01      4.211765\n",
       "4  2017-02      4.293275"
      ]
     },
     "execution_count": 138,
     "metadata": {},
     "output_type": "execute_result"
    }
   ],
   "source": [
    "final.groupby('Yr-Mo')[['review_score']].mean().reset_index().head()"
   ]
  },
  {
   "cell_type": "code",
   "execution_count": 139,
   "id": "270503b2",
   "metadata": {},
   "outputs": [
    {
     "data": {
      "text/html": [
       "<div>\n",
       "<style scoped>\n",
       "    .dataframe tbody tr th:only-of-type {\n",
       "        vertical-align: middle;\n",
       "    }\n",
       "\n",
       "    .dataframe tbody tr th {\n",
       "        vertical-align: top;\n",
       "    }\n",
       "\n",
       "    .dataframe thead th {\n",
       "        text-align: right;\n",
       "    }\n",
       "</style>\n",
       "<table border=\"1\" class=\"dataframe\">\n",
       "  <thead>\n",
       "    <tr style=\"text-align: right;\">\n",
       "      <th></th>\n",
       "      <th>seller_id</th>\n",
       "      <th>review_score</th>\n",
       "    </tr>\n",
       "  </thead>\n",
       "  <tbody>\n",
       "    <tr>\n",
       "      <th>0</th>\n",
       "      <td>0015a82c2db000af6aaaf3ae2ecb0532</td>\n",
       "      <td>3.666667</td>\n",
       "    </tr>\n",
       "    <tr>\n",
       "      <th>1</th>\n",
       "      <td>001cca7ae9ae17fb1caed9dfb1094831</td>\n",
       "      <td>3.944915</td>\n",
       "    </tr>\n",
       "    <tr>\n",
       "      <th>2</th>\n",
       "      <td>002100f778ceb8431b7a1020ff7ab48f</td>\n",
       "      <td>4.086207</td>\n",
       "    </tr>\n",
       "    <tr>\n",
       "      <th>3</th>\n",
       "      <td>004c9cd9d87a3c30c522c48c4fc07416</td>\n",
       "      <td>4.143713</td>\n",
       "    </tr>\n",
       "    <tr>\n",
       "      <th>4</th>\n",
       "      <td>00720abe85ba0859807595bbf045a33b</td>\n",
       "      <td>3.653846</td>\n",
       "    </tr>\n",
       "  </tbody>\n",
       "</table>\n",
       "</div>"
      ],
      "text/plain": [
       "                          seller_id  review_score\n",
       "0  0015a82c2db000af6aaaf3ae2ecb0532      3.666667\n",
       "1  001cca7ae9ae17fb1caed9dfb1094831      3.944915\n",
       "2  002100f778ceb8431b7a1020ff7ab48f      4.086207\n",
       "3  004c9cd9d87a3c30c522c48c4fc07416      4.143713\n",
       "4  00720abe85ba0859807595bbf045a33b      3.653846"
      ]
     },
     "execution_count": 139,
     "metadata": {},
     "output_type": "execute_result"
    }
   ],
   "source": [
    "final.groupby('seller_id')[['review_score']].mean().reset_index().head()"
   ]
  },
  {
   "cell_type": "code",
   "execution_count": 140,
   "id": "b49d80d8",
   "metadata": {},
   "outputs": [
    {
     "data": {
      "text/html": [
       "<div>\n",
       "<style scoped>\n",
       "    .dataframe tbody tr th:only-of-type {\n",
       "        vertical-align: middle;\n",
       "    }\n",
       "\n",
       "    .dataframe tbody tr th {\n",
       "        vertical-align: top;\n",
       "    }\n",
       "\n",
       "    .dataframe thead th {\n",
       "        text-align: right;\n",
       "    }\n",
       "</style>\n",
       "<table border=\"1\" class=\"dataframe\">\n",
       "  <thead>\n",
       "    <tr style=\"text-align: right;\">\n",
       "      <th></th>\n",
       "      <th>geolocation_state</th>\n",
       "      <th>review_score</th>\n",
       "    </tr>\n",
       "  </thead>\n",
       "  <tbody>\n",
       "    <tr>\n",
       "      <th>0</th>\n",
       "      <td>Andhra Pradesh</td>\n",
       "      <td>4.075691</td>\n",
       "    </tr>\n",
       "    <tr>\n",
       "      <th>1</th>\n",
       "      <td>Arunachal Pradesh</td>\n",
       "      <td>4.236264</td>\n",
       "    </tr>\n",
       "    <tr>\n",
       "      <th>2</th>\n",
       "      <td>Chhattisgarh</td>\n",
       "      <td>4.176588</td>\n",
       "    </tr>\n",
       "    <tr>\n",
       "      <th>3</th>\n",
       "      <td>Delhi</td>\n",
       "      <td>4.018304</td>\n",
       "    </tr>\n",
       "    <tr>\n",
       "      <th>4</th>\n",
       "      <td>Gujarat</td>\n",
       "      <td>3.950434</td>\n",
       "    </tr>\n",
       "  </tbody>\n",
       "</table>\n",
       "</div>"
      ],
      "text/plain": [
       "   geolocation_state  review_score\n",
       "0     Andhra Pradesh      4.075691\n",
       "1  Arunachal Pradesh      4.236264\n",
       "2       Chhattisgarh      4.176588\n",
       "3              Delhi      4.018304\n",
       "4            Gujarat      3.950434"
      ]
     },
     "execution_count": 140,
     "metadata": {},
     "output_type": "execute_result"
    }
   ],
   "source": [
    "final.groupby('geolocation_state')[['review_score']].mean().reset_index().head()"
   ]
  },
  {
   "cell_type": "code",
   "execution_count": 141,
   "id": "61c35835",
   "metadata": {},
   "outputs": [
    {
     "data": {
      "text/html": [
       "<div>\n",
       "<style scoped>\n",
       "    .dataframe tbody tr th:only-of-type {\n",
       "        vertical-align: middle;\n",
       "    }\n",
       "\n",
       "    .dataframe tbody tr th {\n",
       "        vertical-align: top;\n",
       "    }\n",
       "\n",
       "    .dataframe thead th {\n",
       "        text-align: right;\n",
       "    }\n",
       "</style>\n",
       "<table border=\"1\" class=\"dataframe\">\n",
       "  <thead>\n",
       "    <tr style=\"text-align: right;\">\n",
       "      <th></th>\n",
       "      <th>product_id</th>\n",
       "      <th>review_score</th>\n",
       "    </tr>\n",
       "  </thead>\n",
       "  <tbody>\n",
       "    <tr>\n",
       "      <th>0</th>\n",
       "      <td>00066f42aeeb9f3007548bb9d3f33c38</td>\n",
       "      <td>5.0</td>\n",
       "    </tr>\n",
       "    <tr>\n",
       "      <th>1</th>\n",
       "      <td>00088930e925c41fd95ebfe695fd2655</td>\n",
       "      <td>4.0</td>\n",
       "    </tr>\n",
       "    <tr>\n",
       "      <th>2</th>\n",
       "      <td>0009406fd7479715e4bef61dd91f2462</td>\n",
       "      <td>1.0</td>\n",
       "    </tr>\n",
       "    <tr>\n",
       "      <th>3</th>\n",
       "      <td>000b8f95fcb9e0096488278317764d19</td>\n",
       "      <td>5.0</td>\n",
       "    </tr>\n",
       "    <tr>\n",
       "      <th>4</th>\n",
       "      <td>000d9be29b5207b54e86aa1b1ac54872</td>\n",
       "      <td>5.0</td>\n",
       "    </tr>\n",
       "  </tbody>\n",
       "</table>\n",
       "</div>"
      ],
      "text/plain": [
       "                         product_id  review_score\n",
       "0  00066f42aeeb9f3007548bb9d3f33c38           5.0\n",
       "1  00088930e925c41fd95ebfe695fd2655           4.0\n",
       "2  0009406fd7479715e4bef61dd91f2462           1.0\n",
       "3  000b8f95fcb9e0096488278317764d19           5.0\n",
       "4  000d9be29b5207b54e86aa1b1ac54872           5.0"
      ]
     },
     "execution_count": 141,
     "metadata": {},
     "output_type": "execute_result"
    }
   ],
   "source": [
    "final.groupby('product_id')[['review_score']].mean().reset_index().head()"
   ]
  },
  {
   "cell_type": "code",
   "execution_count": 142,
   "id": "47242d74",
   "metadata": {},
   "outputs": [
    {
     "data": {
      "text/html": [
       "<div>\n",
       "<style scoped>\n",
       "    .dataframe tbody tr th:only-of-type {\n",
       "        vertical-align: middle;\n",
       "    }\n",
       "\n",
       "    .dataframe tbody tr th {\n",
       "        vertical-align: top;\n",
       "    }\n",
       "\n",
       "    .dataframe thead th {\n",
       "        text-align: right;\n",
       "    }\n",
       "</style>\n",
       "<table border=\"1\" class=\"dataframe\">\n",
       "  <thead>\n",
       "    <tr style=\"text-align: right;\">\n",
       "      <th></th>\n",
       "      <th>product_category_name</th>\n",
       "      <th>review_score</th>\n",
       "    </tr>\n",
       "  </thead>\n",
       "  <tbody>\n",
       "    <tr>\n",
       "      <th>0</th>\n",
       "      <td>Agro_Industry_And_Commerce</td>\n",
       "      <td>4.225410</td>\n",
       "    </tr>\n",
       "    <tr>\n",
       "      <th>1</th>\n",
       "      <td>Air_Conditioning</td>\n",
       "      <td>3.993127</td>\n",
       "    </tr>\n",
       "    <tr>\n",
       "      <th>2</th>\n",
       "      <td>Art</td>\n",
       "      <td>4.020000</td>\n",
       "    </tr>\n",
       "    <tr>\n",
       "      <th>3</th>\n",
       "      <td>Arts_And_Craftmanship</td>\n",
       "      <td>4.125000</td>\n",
       "    </tr>\n",
       "    <tr>\n",
       "      <th>4</th>\n",
       "      <td>Audio</td>\n",
       "      <td>3.828496</td>\n",
       "    </tr>\n",
       "  </tbody>\n",
       "</table>\n",
       "</div>"
      ],
      "text/plain": [
       "        product_category_name  review_score\n",
       "0  Agro_Industry_And_Commerce      4.225410\n",
       "1            Air_Conditioning      3.993127\n",
       "2                         Art      4.020000\n",
       "3       Arts_And_Craftmanship      4.125000\n",
       "4                       Audio      3.828496"
      ]
     },
     "execution_count": 142,
     "metadata": {},
     "output_type": "execute_result"
    }
   ],
   "source": [
    "final.groupby('product_category_name')[['review_score']].mean().reset_index().head()"
   ]
  },
  {
   "cell_type": "code",
   "execution_count": null,
   "id": "08805dfa",
   "metadata": {},
   "outputs": [],
   "source": []
  },
  {
   "cell_type": "code",
   "execution_count": null,
   "id": "535814cd",
   "metadata": {},
   "outputs": [],
   "source": []
  },
  {
   "cell_type": "code",
   "execution_count": null,
   "id": "4c11fa8d",
   "metadata": {},
   "outputs": [],
   "source": []
  },
  {
   "cell_type": "code",
   "execution_count": null,
   "id": "c70df1ed",
   "metadata": {},
   "outputs": [],
   "source": []
  }
 ],
 "metadata": {
  "kernelspec": {
   "display_name": "Python 3 (ipykernel)",
   "language": "python",
   "name": "python3"
  },
  "language_info": {
   "codemirror_mode": {
    "name": "ipython",
    "version": 3
   },
   "file_extension": ".py",
   "mimetype": "text/x-python",
   "name": "python",
   "nbconvert_exporter": "python",
   "pygments_lexer": "ipython3",
   "version": "3.10.4"
  }
 },
 "nbformat": 4,
 "nbformat_minor": 5
}
